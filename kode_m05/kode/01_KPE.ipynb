{
 "cells": [
  {
   "cell_type": "code",
   "execution_count": 1,
   "metadata": {
    "colab": {
     "base_uri": "https://localhost:8080/"
    },
    "id": "ilskamOD-PME",
    "outputId": "c9bd7728-d698-446c-b784-6f3ef322ff2b"
   },
   "outputs": [
    {
     "name": "stdout",
     "output_type": "stream",
     "text": [
      "Collecting textacy\n",
      "  Downloading textacy-0.13.0-py3-none-any.whl.metadata (5.3 kB)\n",
      "Collecting cachetools>=4.0.0 (from textacy)\n",
      "  Downloading cachetools-6.2.0-py3-none-any.whl.metadata (5.4 kB)\n",
      "Collecting catalogue~=2.0 (from textacy)\n",
      "  Using cached catalogue-2.0.10-py3-none-any.whl.metadata (14 kB)\n",
      "Collecting cytoolz>=0.10.1 (from textacy)\n",
      "  Downloading cytoolz-1.0.1-cp311-cp311-win_amd64.whl.metadata (4.7 kB)\n",
      "Collecting floret~=0.10.0 (from textacy)\n",
      "  Downloading floret-0.10.5-cp311-cp311-win_amd64.whl.metadata (3.2 kB)\n",
      "Collecting jellyfish>=0.8.0 (from textacy)\n",
      "  Downloading jellyfish-1.2.0-cp311-cp311-win_amd64.whl.metadata (2.6 kB)\n",
      "Requirement already satisfied: joblib>=0.13.0 in c:\\users\\rende\\miniconda3\\lib\\site-packages (from textacy) (1.5.2)\n",
      "Requirement already satisfied: networkx>=2.7 in c:\\users\\rende\\miniconda3\\lib\\site-packages (from textacy) (3.5)\n",
      "Requirement already satisfied: numpy>=1.17.0 in c:\\users\\rende\\miniconda3\\lib\\site-packages (from textacy) (1.26.4)\n",
      "Collecting pyphen>=0.10.0 (from textacy)\n",
      "  Downloading pyphen-0.17.2-py3-none-any.whl.metadata (3.2 kB)\n",
      "Requirement already satisfied: requests>=2.10.0 in c:\\users\\rende\\miniconda3\\lib\\site-packages (from textacy) (2.32.5)\n",
      "Requirement already satisfied: scipy>=1.8.0 in c:\\users\\rende\\miniconda3\\lib\\site-packages (from textacy) (1.16.2)\n",
      "Requirement already satisfied: scikit-learn>=1.0 in c:\\users\\rende\\miniconda3\\lib\\site-packages (from textacy) (1.7.2)\n",
      "Collecting spacy~=3.0 (from textacy)\n",
      "  Downloading spacy-3.8.7-cp311-cp311-win_amd64.whl.metadata (28 kB)\n",
      "Requirement already satisfied: tqdm>=4.19.6 in c:\\users\\rende\\miniconda3\\lib\\site-packages (from textacy) (4.67.1)\n",
      "Collecting spacy-legacy<3.1.0,>=3.0.11 (from spacy~=3.0->textacy)\n",
      "  Using cached spacy_legacy-3.0.12-py2.py3-none-any.whl.metadata (2.8 kB)\n",
      "Collecting spacy-loggers<2.0.0,>=1.0.0 (from spacy~=3.0->textacy)\n",
      "  Using cached spacy_loggers-1.0.5-py3-none-any.whl.metadata (23 kB)\n",
      "Collecting murmurhash<1.1.0,>=0.28.0 (from spacy~=3.0->textacy)\n",
      "  Downloading murmurhash-1.0.13-cp311-cp311-win_amd64.whl.metadata (2.2 kB)\n",
      "Collecting cymem<2.1.0,>=2.0.2 (from spacy~=3.0->textacy)\n",
      "  Downloading cymem-2.0.11-cp311-cp311-win_amd64.whl.metadata (8.8 kB)\n",
      "Collecting preshed<3.1.0,>=3.0.2 (from spacy~=3.0->textacy)\n",
      "  Downloading preshed-3.0.10-cp311-cp311-win_amd64.whl.metadata (2.5 kB)\n",
      "Collecting thinc<8.4.0,>=8.3.4 (from spacy~=3.0->textacy)\n",
      "  Downloading thinc-8.3.6-cp311-cp311-win_amd64.whl.metadata (15 kB)\n",
      "Collecting wasabi<1.2.0,>=0.9.1 (from spacy~=3.0->textacy)\n",
      "  Using cached wasabi-1.1.3-py3-none-any.whl.metadata (28 kB)\n",
      "Collecting srsly<3.0.0,>=2.4.3 (from spacy~=3.0->textacy)\n",
      "  Downloading srsly-2.5.1-cp311-cp311-win_amd64.whl.metadata (20 kB)\n",
      "Collecting weasel<0.5.0,>=0.1.0 (from spacy~=3.0->textacy)\n",
      "  Using cached weasel-0.4.1-py3-none-any.whl.metadata (4.6 kB)\n",
      "Requirement already satisfied: typer<1.0.0,>=0.3.0 in c:\\users\\rende\\miniconda3\\lib\\site-packages (from spacy~=3.0->textacy) (0.17.4)\n",
      "Requirement already satisfied: pydantic!=1.8,!=1.8.1,<3.0.0,>=1.7.4 in c:\\users\\rende\\miniconda3\\lib\\site-packages (from spacy~=3.0->textacy) (2.11.7)\n",
      "Requirement already satisfied: jinja2 in c:\\users\\rende\\miniconda3\\lib\\site-packages (from spacy~=3.0->textacy) (3.1.6)\n",
      "Requirement already satisfied: setuptools in c:\\users\\rende\\miniconda3\\lib\\site-packages (from spacy~=3.0->textacy) (78.1.1)\n",
      "Requirement already satisfied: packaging>=20.0 in c:\\users\\rende\\miniconda3\\lib\\site-packages (from spacy~=3.0->textacy) (25.0)\n",
      "Collecting langcodes<4.0.0,>=3.2.0 (from spacy~=3.0->textacy)\n",
      "  Using cached langcodes-3.5.0-py3-none-any.whl.metadata (29 kB)\n",
      "Collecting language-data>=1.2 (from langcodes<4.0.0,>=3.2.0->spacy~=3.0->textacy)\n",
      "  Using cached language_data-1.3.0-py3-none-any.whl.metadata (4.3 kB)\n",
      "Requirement already satisfied: annotated-types>=0.6.0 in c:\\users\\rende\\miniconda3\\lib\\site-packages (from pydantic!=1.8,!=1.8.1,<3.0.0,>=1.7.4->spacy~=3.0->textacy) (0.6.0)\n",
      "Requirement already satisfied: pydantic-core==2.33.2 in c:\\users\\rende\\miniconda3\\lib\\site-packages (from pydantic!=1.8,!=1.8.1,<3.0.0,>=1.7.4->spacy~=3.0->textacy) (2.33.2)\n",
      "Requirement already satisfied: typing-extensions>=4.12.2 in c:\\users\\rende\\miniconda3\\lib\\site-packages (from pydantic!=1.8,!=1.8.1,<3.0.0,>=1.7.4->spacy~=3.0->textacy) (4.15.0)\n",
      "Requirement already satisfied: typing-inspection>=0.4.0 in c:\\users\\rende\\miniconda3\\lib\\site-packages (from pydantic!=1.8,!=1.8.1,<3.0.0,>=1.7.4->spacy~=3.0->textacy) (0.4.0)\n",
      "Requirement already satisfied: charset_normalizer<4,>=2 in c:\\users\\rende\\miniconda3\\lib\\site-packages (from requests>=2.10.0->textacy) (3.3.2)\n",
      "Requirement already satisfied: idna<4,>=2.5 in c:\\users\\rende\\miniconda3\\lib\\site-packages (from requests>=2.10.0->textacy) (3.7)\n",
      "Requirement already satisfied: urllib3<3,>=1.21.1 in c:\\users\\rende\\miniconda3\\lib\\site-packages (from requests>=2.10.0->textacy) (2.5.0)\n",
      "Requirement already satisfied: certifi>=2017.4.17 in c:\\users\\rende\\miniconda3\\lib\\site-packages (from requests>=2.10.0->textacy) (2025.8.3)\n",
      "Collecting blis<1.4.0,>=1.3.0 (from thinc<8.4.0,>=8.3.4->spacy~=3.0->textacy)\n",
      "  Downloading blis-1.3.0-cp311-cp311-win_amd64.whl.metadata (7.6 kB)\n",
      "Collecting confection<1.0.0,>=0.0.1 (from thinc<8.4.0,>=8.3.4->spacy~=3.0->textacy)\n",
      "  Using cached confection-0.1.5-py3-none-any.whl.metadata (19 kB)\n",
      "Collecting numpy>=1.17.0 (from textacy)\n",
      "  Downloading numpy-2.3.3-cp311-cp311-win_amd64.whl.metadata (60 kB)\n",
      "Requirement already satisfied: colorama in c:\\users\\rende\\miniconda3\\lib\\site-packages (from tqdm>=4.19.6->textacy) (0.4.6)\n",
      "Requirement already satisfied: click>=8.0.0 in c:\\users\\rende\\miniconda3\\lib\\site-packages (from typer<1.0.0,>=0.3.0->spacy~=3.0->textacy) (8.2.1)\n",
      "Requirement already satisfied: shellingham>=1.3.0 in c:\\users\\rende\\miniconda3\\lib\\site-packages (from typer<1.0.0,>=0.3.0->spacy~=3.0->textacy) (1.5.0)\n",
      "Requirement already satisfied: rich>=10.11.0 in c:\\users\\rende\\miniconda3\\lib\\site-packages (from typer<1.0.0,>=0.3.0->spacy~=3.0->textacy) (13.9.4)\n",
      "Collecting cloudpathlib<1.0.0,>=0.7.0 (from weasel<0.5.0,>=0.1.0->spacy~=3.0->textacy)\n",
      "  Using cached cloudpathlib-0.22.0-py3-none-any.whl.metadata (16 kB)\n",
      "Requirement already satisfied: smart-open<8.0.0,>=5.2.1 in c:\\users\\rende\\miniconda3\\lib\\site-packages (from weasel<0.5.0,>=0.1.0->spacy~=3.0->textacy) (7.3.1)\n",
      "Requirement already satisfied: wrapt in c:\\users\\rende\\miniconda3\\lib\\site-packages (from smart-open<8.0.0,>=5.2.1->weasel<0.5.0,>=0.1.0->spacy~=3.0->textacy) (1.17.3)\n",
      "Collecting toolz>=0.8.0 (from cytoolz>=0.10.1->textacy)\n",
      "  Downloading toolz-1.0.0-py3-none-any.whl.metadata (5.1 kB)\n",
      "Collecting marisa-trie>=1.1.0 (from language-data>=1.2->langcodes<4.0.0,>=3.2.0->spacy~=3.0->textacy)\n",
      "  Downloading marisa_trie-1.3.1-cp311-cp311-win_amd64.whl.metadata (10 kB)\n",
      "Requirement already satisfied: markdown-it-py>=2.2.0 in c:\\users\\rende\\miniconda3\\lib\\site-packages (from rich>=10.11.0->typer<1.0.0,>=0.3.0->spacy~=3.0->textacy) (4.0.0)\n",
      "Requirement already satisfied: pygments<3.0.0,>=2.13.0 in c:\\users\\rende\\miniconda3\\lib\\site-packages (from rich>=10.11.0->typer<1.0.0,>=0.3.0->spacy~=3.0->textacy) (2.19.1)\n",
      "Requirement already satisfied: mdurl~=0.1 in c:\\users\\rende\\miniconda3\\lib\\site-packages (from markdown-it-py>=2.2.0->rich>=10.11.0->typer<1.0.0,>=0.3.0->spacy~=3.0->textacy) (0.1.2)\n",
      "Requirement already satisfied: threadpoolctl>=3.1.0 in c:\\users\\rende\\miniconda3\\lib\\site-packages (from scikit-learn>=1.0->textacy) (3.6.0)\n",
      "Requirement already satisfied: MarkupSafe>=2.0 in c:\\users\\rende\\miniconda3\\lib\\site-packages (from jinja2->spacy~=3.0->textacy) (3.0.2)\n",
      "Downloading textacy-0.13.0-py3-none-any.whl (210 kB)\n",
      "Using cached catalogue-2.0.10-py3-none-any.whl (17 kB)\n",
      "Downloading floret-0.10.5-cp311-cp311-win_amd64.whl (242 kB)\n",
      "Downloading spacy-3.8.7-cp311-cp311-win_amd64.whl (14.9 MB)\n",
      "   ---------------------------------------- 0.0/14.9 MB ? eta -:--:--\n",
      "   -- ------------------------------------- 1.0/14.9 MB 6.3 MB/s eta 0:00:03\n",
      "   ------ --------------------------------- 2.4/14.9 MB 5.8 MB/s eta 0:00:03\n",
      "   --------- ------------------------------ 3.4/14.9 MB 5.4 MB/s eta 0:00:03\n",
      "   ----------- ---------------------------- 4.5/14.9 MB 5.4 MB/s eta 0:00:02\n",
      "   --------------- ------------------------ 5.8/14.9 MB 5.5 MB/s eta 0:00:02\n",
      "   ------------------ --------------------- 7.1/14.9 MB 5.5 MB/s eta 0:00:02\n",
      "   --------------------- ------------------ 8.1/14.9 MB 5.5 MB/s eta 0:00:02\n",
      "   ------------------------- -------------- 9.4/14.9 MB 5.6 MB/s eta 0:00:01\n",
      "   ---------------------------- ----------- 10.5/14.9 MB 5.6 MB/s eta 0:00:01\n",
      "   ------------------------------- -------- 11.8/14.9 MB 5.6 MB/s eta 0:00:01\n",
      "   -------------------------------- ------- 12.3/14.9 MB 5.3 MB/s eta 0:00:01\n",
      "   ----------------------------------- ---- 13.4/14.9 MB 5.3 MB/s eta 0:00:01\n",
      "   ------------------------------------- -- 14.2/14.9 MB 5.1 MB/s eta 0:00:01\n",
      "   ---------------------------------------- 14.9/14.9 MB 5.1 MB/s  0:00:02\n",
      "Downloading cymem-2.0.11-cp311-cp311-win_amd64.whl (39 kB)\n",
      "Using cached langcodes-3.5.0-py3-none-any.whl (182 kB)\n",
      "Downloading murmurhash-1.0.13-cp311-cp311-win_amd64.whl (24 kB)\n",
      "Downloading preshed-3.0.10-cp311-cp311-win_amd64.whl (117 kB)\n",
      "Using cached spacy_legacy-3.0.12-py2.py3-none-any.whl (29 kB)\n",
      "Using cached spacy_loggers-1.0.5-py3-none-any.whl (22 kB)\n",
      "Downloading srsly-2.5.1-cp311-cp311-win_amd64.whl (632 kB)\n",
      "   ---------------------------------------- 0.0/632.6 kB ? eta -:--:--\n",
      "   ---------------------------------------- 632.6/632.6 kB 4.7 MB/s  0:00:00\n",
      "Downloading thinc-8.3.6-cp311-cp311-win_amd64.whl (1.8 MB)\n",
      "   ---------------------------------------- 0.0/1.8 MB ? eta -:--:--\n",
      "   ----------------------- ---------------- 1.0/1.8 MB 5.6 MB/s eta 0:00:01\n",
      "   ---------------------------------------- 1.8/1.8 MB 5.7 MB/s  0:00:00\n",
      "Downloading blis-1.3.0-cp311-cp311-win_amd64.whl (6.2 MB)\n",
      "   ---------------------------------------- 0.0/6.2 MB ? eta -:--:--\n",
      "   ------ --------------------------------- 1.0/6.2 MB 5.6 MB/s eta 0:00:01\n",
      "   --------------- ------------------------ 2.4/6.2 MB 5.8 MB/s eta 0:00:01\n",
      "   ----------------------- ---------------- 3.7/6.2 MB 5.7 MB/s eta 0:00:01\n",
      "   ------------------------------ --------- 4.7/6.2 MB 5.7 MB/s eta 0:00:01\n",
      "   -------------------------------------- - 6.0/6.2 MB 5.7 MB/s eta 0:00:01\n",
      "   ---------------------------------------- 6.2/6.2 MB 5.6 MB/s  0:00:01\n",
      "Using cached confection-0.1.5-py3-none-any.whl (35 kB)\n",
      "Downloading numpy-2.3.3-cp311-cp311-win_amd64.whl (13.1 MB)\n",
      "   ---------------------------------------- 0.0/13.1 MB ? eta -:--:--\n",
      "   --- ------------------------------------ 1.0/13.1 MB 5.6 MB/s eta 0:00:03\n",
      "   ------ --------------------------------- 2.1/13.1 MB 4.9 MB/s eta 0:00:03\n",
      "   -------- ------------------------------- 2.6/13.1 MB 4.3 MB/s eta 0:00:03\n",
      "   ---------- ----------------------------- 3.4/13.1 MB 4.0 MB/s eta 0:00:03\n",
      "   ------------ --------------------------- 4.2/13.1 MB 4.0 MB/s eta 0:00:03\n",
      "   -------------- ------------------------- 4.7/13.1 MB 3.9 MB/s eta 0:00:03\n",
      "   ------------------ --------------------- 6.0/13.1 MB 4.1 MB/s eta 0:00:02\n",
      "   ---------------------- ----------------- 7.3/13.1 MB 4.4 MB/s eta 0:00:02\n",
      "   -------------------------- ------------- 8.7/13.1 MB 4.5 MB/s eta 0:00:01\n",
      "   ---------------------------- ----------- 9.4/13.1 MB 4.6 MB/s eta 0:00:01\n",
      "   -------------------------------- ------- 10.7/13.1 MB 4.7 MB/s eta 0:00:01\n",
      "   ---------------------------------- ----- 11.3/13.1 MB 4.5 MB/s eta 0:00:01\n",
      "   -------------------------------------- - 12.6/13.1 MB 4.6 MB/s eta 0:00:01\n",
      "   ---------------------------------------- 13.1/13.1 MB 4.6 MB/s  0:00:02\n",
      "Using cached wasabi-1.1.3-py3-none-any.whl (27 kB)\n",
      "Using cached weasel-0.4.1-py3-none-any.whl (50 kB)\n",
      "Using cached cloudpathlib-0.22.0-py3-none-any.whl (61 kB)\n",
      "Downloading cachetools-6.2.0-py3-none-any.whl (11 kB)\n",
      "Downloading cytoolz-1.0.1-cp311-cp311-win_amd64.whl (365 kB)\n",
      "Downloading jellyfish-1.2.0-cp311-cp311-win_amd64.whl (217 kB)\n",
      "Using cached language_data-1.3.0-py3-none-any.whl (5.4 MB)\n",
      "Downloading marisa_trie-1.3.1-cp311-cp311-win_amd64.whl (143 kB)\n",
      "Downloading pyphen-0.17.2-py3-none-any.whl (2.1 MB)\n",
      "   ---------------------------------------- 0.0/2.1 MB ? eta -:--:--\n",
      "   --------------- ------------------------ 0.8/2.1 MB 4.8 MB/s eta 0:00:01\n",
      "   ----------------------------------- ---- 1.8/2.1 MB 4.8 MB/s eta 0:00:01\n",
      "   ---------------------------------------- 2.1/2.1 MB 4.5 MB/s  0:00:00\n",
      "Downloading toolz-1.0.0-py3-none-any.whl (56 kB)\n",
      "Installing collected packages: cymem, wasabi, toolz, spacy-loggers, spacy-legacy, pyphen, numpy, murmurhash, marisa-trie, jellyfish, cloudpathlib, catalogue, cachetools, srsly, preshed, language-data, floret, cytoolz, blis, langcodes, confection, weasel, thinc, spacy, textacy\n",
      "\n",
      "   --- ------------------------------------  2/25 [toolz]\n",
      "   ---- -----------------------------------  3/25 [spacy-loggers]\n",
      "   -------- -------------------------------  5/25 [pyphen]\n",
      "  Attempting uninstall: numpy\n",
      "   -------- -------------------------------  5/25 [pyphen]\n",
      "    Found existing installation: numpy 1.26.4\n",
      "   -------- -------------------------------  5/25 [pyphen]\n",
      "   --------- ------------------------------  6/25 [numpy]\n",
      "   --------- ------------------------------  6/25 [numpy]\n",
      "   --------- ------------------------------  6/25 [numpy]\n",
      "    Uninstalling numpy-1.26.4:\n",
      "   --------- ------------------------------  6/25 [numpy]\n",
      "   --------- ------------------------------  6/25 [numpy]\n",
      "   --------- ------------------------------  6/25 [numpy]\n",
      "   --------- ------------------------------  6/25 [numpy]\n",
      "   --------- ------------------------------  6/25 [numpy]\n",
      "   --------- ------------------------------  6/25 [numpy]\n",
      "   --------- ------------------------------  6/25 [numpy]\n",
      "   --------- ------------------------------  6/25 [numpy]\n",
      "   --------- ------------------------------  6/25 [numpy]\n",
      "      Successfully uninstalled numpy-1.26.4\n",
      "   --------- ------------------------------  6/25 [numpy]\n",
      "   --------- ------------------------------  6/25 [numpy]\n",
      "   --------- ------------------------------  6/25 [numpy]\n",
      "   --------- ------------------------------  6/25 [numpy]\n",
      "   --------- ------------------------------  6/25 [numpy]\n",
      "   --------- ------------------------------  6/25 [numpy]\n",
      "   --------- ------------------------------  6/25 [numpy]\n",
      "   --------- ------------------------------  6/25 [numpy]\n",
      "   --------- ------------------------------  6/25 [numpy]\n",
      "   --------- ------------------------------  6/25 [numpy]\n",
      "   --------- ------------------------------  6/25 [numpy]\n",
      "   --------- ------------------------------  6/25 [numpy]\n",
      "   --------- ------------------------------  6/25 [numpy]\n",
      "   --------- ------------------------------  6/25 [numpy]\n",
      "   --------- ------------------------------  6/25 [numpy]\n",
      "   --------- ------------------------------  6/25 [numpy]\n",
      "   --------- ------------------------------  6/25 [numpy]\n",
      "   --------- ------------------------------  6/25 [numpy]\n",
      "   --------- ------------------------------  6/25 [numpy]\n",
      "   --------- ------------------------------  6/25 [numpy]\n",
      "   --------- ------------------------------  6/25 [numpy]\n",
      "   --------- ------------------------------  6/25 [numpy]\n",
      "   --------- ------------------------------  6/25 [numpy]\n",
      "   --------- ------------------------------  6/25 [numpy]\n",
      "   --------- ------------------------------  6/25 [numpy]\n",
      "   --------- ------------------------------  6/25 [numpy]\n",
      "   --------- ------------------------------  6/25 [numpy]\n",
      "   --------- ------------------------------  6/25 [numpy]\n",
      "   --------- ------------------------------  6/25 [numpy]\n",
      "   --------- ------------------------------  6/25 [numpy]\n",
      "   --------- ------------------------------  6/25 [numpy]\n",
      "   --------- ------------------------------  6/25 [numpy]\n",
      "   --------- ------------------------------  6/25 [numpy]\n",
      "   ---------------- ----------------------- 10/25 [cloudpathlib]\n",
      "   ------------------- -------------------- 12/25 [cachetools]\n",
      "   -------------------- ------------------- 13/25 [srsly]\n",
      "   -------------------- ------------------- 13/25 [srsly]\n",
      "   -------------------- ------------------- 13/25 [srsly]\n",
      "   -------------------- ------------------- 13/25 [srsly]\n",
      "   ---------------------- ----------------- 14/25 [preshed]\n",
      "   ------------------------ --------------- 15/25 [language-data]\n",
      "   ------------------------ --------------- 15/25 [language-data]\n",
      "   ------------------------ --------------- 15/25 [language-data]\n",
      "   ------------------------ --------------- 15/25 [language-data]\n",
      "   ------------------------ --------------- 15/25 [language-data]\n",
      "   ------------------------ --------------- 15/25 [language-data]\n",
      "   ------------------------ --------------- 15/25 [language-data]\n",
      "   ------------------------- -------------- 16/25 [floret]\n",
      "   --------------------------- ------------ 17/25 [cytoolz]\n",
      "   ---------------------------- ----------- 18/25 [blis]\n",
      "   ------------------------------ --------- 19/25 [langcodes]\n",
      "   --------------------------------- ------ 21/25 [weasel]\n",
      "   --------------------------------- ------ 21/25 [weasel]\n",
      "   ----------------------------------- ---- 22/25 [thinc]\n",
      "   ----------------------------------- ---- 22/25 [thinc]\n",
      "   ----------------------------------- ---- 22/25 [thinc]\n",
      "   ----------------------------------- ---- 22/25 [thinc]\n",
      "   ----------------------------------- ---- 22/25 [thinc]\n",
      "   ----------------------------------- ---- 22/25 [thinc]\n",
      "   ------------------------------------ --- 23/25 [spacy]\n",
      "   ------------------------------------ --- 23/25 [spacy]\n",
      "   ------------------------------------ --- 23/25 [spacy]\n",
      "   ------------------------------------ --- 23/25 [spacy]\n",
      "   ------------------------------------ --- 23/25 [spacy]\n",
      "   ------------------------------------ --- 23/25 [spacy]\n",
      "   ------------------------------------ --- 23/25 [spacy]\n",
      "   ------------------------------------ --- 23/25 [spacy]\n",
      "   ------------------------------------ --- 23/25 [spacy]\n",
      "   ------------------------------------ --- 23/25 [spacy]\n",
      "   ------------------------------------ --- 23/25 [spacy]\n",
      "   ------------------------------------ --- 23/25 [spacy]\n",
      "   ------------------------------------ --- 23/25 [spacy]\n",
      "   ------------------------------------ --- 23/25 [spacy]\n",
      "   ------------------------------------ --- 23/25 [spacy]\n",
      "   ------------------------------------ --- 23/25 [spacy]\n",
      "   ------------------------------------ --- 23/25 [spacy]\n",
      "   ------------------------------------ --- 23/25 [spacy]\n",
      "   ------------------------------------ --- 23/25 [spacy]\n",
      "   ------------------------------------ --- 23/25 [spacy]\n",
      "   ------------------------------------ --- 23/25 [spacy]\n",
      "   ------------------------------------ --- 23/25 [spacy]\n",
      "   ------------------------------------ --- 23/25 [spacy]\n",
      "   ------------------------------------ --- 23/25 [spacy]\n",
      "   ------------------------------------ --- 23/25 [spacy]\n",
      "   ------------------------------------ --- 23/25 [spacy]\n",
      "   ------------------------------------ --- 23/25 [spacy]\n",
      "   ------------------------------------ --- 23/25 [spacy]\n",
      "   ------------------------------------ --- 23/25 [spacy]\n",
      "   ------------------------------------ --- 23/25 [spacy]\n",
      "   ------------------------------------ --- 23/25 [spacy]\n",
      "   ------------------------------------ --- 23/25 [spacy]\n",
      "   -------------------------------------- - 24/25 [textacy]\n",
      "   -------------------------------------- - 24/25 [textacy]\n",
      "   -------------------------------------- - 24/25 [textacy]\n",
      "   ---------------------------------------- 25/25 [textacy]\n",
      "\n",
      "Successfully installed blis-1.3.0 cachetools-6.2.0 catalogue-2.0.10 cloudpathlib-0.22.0 confection-0.1.5 cymem-2.0.11 cytoolz-1.0.1 floret-0.10.5 jellyfish-1.2.0 langcodes-3.5.0 language-data-1.3.0 marisa-trie-1.3.1 murmurhash-1.0.13 numpy-2.3.3 preshed-3.0.10 pyphen-0.17.2 spacy-3.8.7 spacy-legacy-3.0.12 spacy-loggers-1.0.5 srsly-2.5.1 textacy-0.13.0 thinc-8.3.6 toolz-1.0.0 wasabi-1.1.3 weasel-0.4.1\n"
     ]
    },
    {
     "name": "stderr",
     "output_type": "stream",
     "text": [
      "ERROR: pip's dependency resolver does not currently take into account all the packages that are installed. This behaviour is the source of the following dependency conflicts.\n",
      "gensim 4.3.3 requires numpy<2.0,>=1.18.5, but you have numpy 2.3.3 which is incompatible.\n",
      "gensim 4.3.3 requires scipy<1.14.0,>=1.7.0, but you have scipy 1.16.2 which is incompatible.\n"
     ]
    }
   ],
   "source": [
    "#We need texacy, which inturn loads spacy library\n",
    "!pip install textacy"
   ]
  },
  {
   "cell_type": "code",
   "execution_count": 2,
   "metadata": {
    "colab": {
     "base_uri": "https://localhost:8080/"
    },
    "id": "4OG9AAzE-PMI",
    "outputId": "2f8cebb2-de67-46ce-eddd-aad7018aaac5"
   },
   "outputs": [
    {
     "name": "stdout",
     "output_type": "stream",
     "text": [
      "Collecting en-core-web-sm==3.8.0\n",
      "  Downloading https://github.com/explosion/spacy-models/releases/download/en_core_web_sm-3.8.0/en_core_web_sm-3.8.0-py3-none-any.whl (12.8 MB)\n",
      "     ---------------------------------------- 0.0/12.8 MB ? eta -:--:--\n",
      "     --- ------------------------------------ 1.0/12.8 MB 6.3 MB/s eta 0:00:02\n",
      "     ------ --------------------------------- 2.1/12.8 MB 5.3 MB/s eta 0:00:03\n",
      "     ---------- ----------------------------- 3.4/12.8 MB 5.8 MB/s eta 0:00:02\n",
      "     -------------- ------------------------- 4.7/12.8 MB 5.7 MB/s eta 0:00:02\n",
      "     ------------------ --------------------- 5.8/12.8 MB 5.7 MB/s eta 0:00:02\n",
      "     --------------------- ------------------ 6.8/12.8 MB 5.7 MB/s eta 0:00:02\n",
      "     ------------------------ --------------- 7.9/12.8 MB 5.7 MB/s eta 0:00:01\n",
      "     ----------------------------- ---------- 9.4/12.8 MB 5.7 MB/s eta 0:00:01\n",
      "     ------------------------------- -------- 10.2/12.8 MB 5.5 MB/s eta 0:00:01\n",
      "     ------------------------------------ --- 11.5/12.8 MB 5.7 MB/s eta 0:00:01\n",
      "     ---------------------------------------  12.6/12.8 MB 5.6 MB/s eta 0:00:01\n",
      "     ---------------------------------------- 12.8/12.8 MB 5.5 MB/s  0:00:02\n",
      "Installing collected packages: en-core-web-sm\n",
      "Successfully installed en-core-web-sm-3.8.0\n",
      "\u001b[38;5;2m✔ Download and installation successful\u001b[0m\n",
      "You can now load the package via spacy.load('en_core_web_sm')\n"
     ]
    }
   ],
   "source": [
    "!python -m spacy download en_core_web_sm"
   ]
  },
  {
   "cell_type": "code",
   "execution_count": 4,
   "metadata": {
    "colab": {
     "base_uri": "https://localhost:8080/"
    },
    "id": "OYYQEs4F-PMJ",
    "outputId": "3e516c1d-c20e-4a43-b61c-7be096d31018"
   },
   "outputs": [
    {
     "name": "stdout",
     "output_type": "stream",
     "text": [
      "Requirement already satisfied: spacy in c:\\users\\rende\\miniconda3\\lib\\site-packages (3.8.7)\n",
      "Requirement already satisfied: spacy-legacy<3.1.0,>=3.0.11 in c:\\users\\rende\\miniconda3\\lib\\site-packages (from spacy) (3.0.12)\n",
      "Requirement already satisfied: spacy-loggers<2.0.0,>=1.0.0 in c:\\users\\rende\\miniconda3\\lib\\site-packages (from spacy) (1.0.5)\n",
      "Requirement already satisfied: murmurhash<1.1.0,>=0.28.0 in c:\\users\\rende\\miniconda3\\lib\\site-packages (from spacy) (1.0.13)\n",
      "Requirement already satisfied: cymem<2.1.0,>=2.0.2 in c:\\users\\rende\\miniconda3\\lib\\site-packages (from spacy) (2.0.11)\n",
      "Requirement already satisfied: preshed<3.1.0,>=3.0.2 in c:\\users\\rende\\miniconda3\\lib\\site-packages (from spacy) (3.0.10)\n",
      "Requirement already satisfied: thinc<8.4.0,>=8.3.4 in c:\\users\\rende\\miniconda3\\lib\\site-packages (from spacy) (8.3.6)\n",
      "Requirement already satisfied: wasabi<1.2.0,>=0.9.1 in c:\\users\\rende\\miniconda3\\lib\\site-packages (from spacy) (1.1.3)\n",
      "Requirement already satisfied: srsly<3.0.0,>=2.4.3 in c:\\users\\rende\\miniconda3\\lib\\site-packages (from spacy) (2.5.1)\n",
      "Requirement already satisfied: catalogue<2.1.0,>=2.0.6 in c:\\users\\rende\\miniconda3\\lib\\site-packages (from spacy) (2.0.10)\n",
      "Requirement already satisfied: weasel<0.5.0,>=0.1.0 in c:\\users\\rende\\miniconda3\\lib\\site-packages (from spacy) (0.4.1)\n",
      "Requirement already satisfied: typer<1.0.0,>=0.3.0 in c:\\users\\rende\\miniconda3\\lib\\site-packages (from spacy) (0.17.4)\n",
      "Requirement already satisfied: tqdm<5.0.0,>=4.38.0 in c:\\users\\rende\\miniconda3\\lib\\site-packages (from spacy) (4.67.1)\n",
      "Requirement already satisfied: numpy>=1.19.0 in c:\\users\\rende\\miniconda3\\lib\\site-packages (from spacy) (2.3.3)\n",
      "Requirement already satisfied: requests<3.0.0,>=2.13.0 in c:\\users\\rende\\miniconda3\\lib\\site-packages (from spacy) (2.32.5)\n",
      "Requirement already satisfied: pydantic!=1.8,!=1.8.1,<3.0.0,>=1.7.4 in c:\\users\\rende\\miniconda3\\lib\\site-packages (from spacy) (2.11.7)\n",
      "Requirement already satisfied: jinja2 in c:\\users\\rende\\miniconda3\\lib\\site-packages (from spacy) (3.1.6)\n",
      "Requirement already satisfied: setuptools in c:\\users\\rende\\miniconda3\\lib\\site-packages (from spacy) (78.1.1)\n",
      "Requirement already satisfied: packaging>=20.0 in c:\\users\\rende\\miniconda3\\lib\\site-packages (from spacy) (25.0)\n",
      "Requirement already satisfied: langcodes<4.0.0,>=3.2.0 in c:\\users\\rende\\miniconda3\\lib\\site-packages (from spacy) (3.5.0)\n",
      "Requirement already satisfied: language-data>=1.2 in c:\\users\\rende\\miniconda3\\lib\\site-packages (from langcodes<4.0.0,>=3.2.0->spacy) (1.3.0)\n",
      "Requirement already satisfied: annotated-types>=0.6.0 in c:\\users\\rende\\miniconda3\\lib\\site-packages (from pydantic!=1.8,!=1.8.1,<3.0.0,>=1.7.4->spacy) (0.6.0)\n",
      "Requirement already satisfied: pydantic-core==2.33.2 in c:\\users\\rende\\miniconda3\\lib\\site-packages (from pydantic!=1.8,!=1.8.1,<3.0.0,>=1.7.4->spacy) (2.33.2)\n",
      "Requirement already satisfied: typing-extensions>=4.12.2 in c:\\users\\rende\\miniconda3\\lib\\site-packages (from pydantic!=1.8,!=1.8.1,<3.0.0,>=1.7.4->spacy) (4.15.0)\n",
      "Requirement already satisfied: typing-inspection>=0.4.0 in c:\\users\\rende\\miniconda3\\lib\\site-packages (from pydantic!=1.8,!=1.8.1,<3.0.0,>=1.7.4->spacy) (0.4.0)\n",
      "Requirement already satisfied: charset_normalizer<4,>=2 in c:\\users\\rende\\miniconda3\\lib\\site-packages (from requests<3.0.0,>=2.13.0->spacy) (3.3.2)\n",
      "Requirement already satisfied: idna<4,>=2.5 in c:\\users\\rende\\miniconda3\\lib\\site-packages (from requests<3.0.0,>=2.13.0->spacy) (3.7)\n",
      "Requirement already satisfied: urllib3<3,>=1.21.1 in c:\\users\\rende\\miniconda3\\lib\\site-packages (from requests<3.0.0,>=2.13.0->spacy) (2.5.0)\n",
      "Requirement already satisfied: certifi>=2017.4.17 in c:\\users\\rende\\miniconda3\\lib\\site-packages (from requests<3.0.0,>=2.13.0->spacy) (2025.8.3)\n",
      "Requirement already satisfied: blis<1.4.0,>=1.3.0 in c:\\users\\rende\\miniconda3\\lib\\site-packages (from thinc<8.4.0,>=8.3.4->spacy) (1.3.0)\n",
      "Requirement already satisfied: confection<1.0.0,>=0.0.1 in c:\\users\\rende\\miniconda3\\lib\\site-packages (from thinc<8.4.0,>=8.3.4->spacy) (0.1.5)\n",
      "Requirement already satisfied: colorama in c:\\users\\rende\\miniconda3\\lib\\site-packages (from tqdm<5.0.0,>=4.38.0->spacy) (0.4.6)\n",
      "Requirement already satisfied: click>=8.0.0 in c:\\users\\rende\\miniconda3\\lib\\site-packages (from typer<1.0.0,>=0.3.0->spacy) (8.2.1)\n",
      "Requirement already satisfied: shellingham>=1.3.0 in c:\\users\\rende\\miniconda3\\lib\\site-packages (from typer<1.0.0,>=0.3.0->spacy) (1.5.0)\n",
      "Requirement already satisfied: rich>=10.11.0 in c:\\users\\rende\\miniconda3\\lib\\site-packages (from typer<1.0.0,>=0.3.0->spacy) (13.9.4)\n",
      "Requirement already satisfied: cloudpathlib<1.0.0,>=0.7.0 in c:\\users\\rende\\miniconda3\\lib\\site-packages (from weasel<0.5.0,>=0.1.0->spacy) (0.22.0)\n",
      "Requirement already satisfied: smart-open<8.0.0,>=5.2.1 in c:\\users\\rende\\miniconda3\\lib\\site-packages (from weasel<0.5.0,>=0.1.0->spacy) (7.3.1)\n",
      "Requirement already satisfied: wrapt in c:\\users\\rende\\miniconda3\\lib\\site-packages (from smart-open<8.0.0,>=5.2.1->weasel<0.5.0,>=0.1.0->spacy) (1.17.3)\n",
      "Requirement already satisfied: marisa-trie>=1.1.0 in c:\\users\\rende\\miniconda3\\lib\\site-packages (from language-data>=1.2->langcodes<4.0.0,>=3.2.0->spacy) (1.3.1)\n",
      "Requirement already satisfied: markdown-it-py>=2.2.0 in c:\\users\\rende\\miniconda3\\lib\\site-packages (from rich>=10.11.0->typer<1.0.0,>=0.3.0->spacy) (4.0.0)\n",
      "Requirement already satisfied: pygments<3.0.0,>=2.13.0 in c:\\users\\rende\\miniconda3\\lib\\site-packages (from rich>=10.11.0->typer<1.0.0,>=0.3.0->spacy) (2.19.1)\n",
      "Requirement already satisfied: mdurl~=0.1 in c:\\users\\rende\\miniconda3\\lib\\site-packages (from markdown-it-py>=2.2.0->rich>=10.11.0->typer<1.0.0,>=0.3.0->spacy) (0.1.2)\n",
      "Requirement already satisfied: MarkupSafe>=2.0 in c:\\users\\rende\\miniconda3\\lib\\site-packages (from jinja2->spacy) (3.0.2)\n"
     ]
    }
   ],
   "source": [
    "#Use spacy version 2.2.4 for this notebook\n",
    "!pip install spacy"
   ]
  },
  {
   "cell_type": "code",
   "execution_count": 18,
   "metadata": {
    "id": "6fjsX2at-PMJ"
   },
   "outputs": [],
   "source": [
    "import spacy\n",
    "from textacy import extract\n",
    "# from textacy import *"
   ]
  },
  {
   "cell_type": "code",
   "execution_count": 19,
   "metadata": {
    "id": "hnIbu8J_-PMJ"
   },
   "outputs": [],
   "source": [
    "#Load a spacy model, which will be used for all further processing.\n",
    "en = textacy.load_spacy_lang(\"en_core_web_sm\")"
   ]
  },
  {
   "cell_type": "code",
   "execution_count": 20,
   "metadata": {
    "colab": {
     "base_uri": "https://localhost:8080/",
     "height": 73,
     "resources": {
      "http://localhost:8080/nbextensions/google.colab/files.js": {
       "data": "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",
       "headers": [
        [
         "content-type",
         "application/javascript"
        ]
       ],
       "ok": true,
       "status": 200,
       "status_text": ""
      }
     }
    },
    "id": "ay4RCUtA-PMK",
    "outputId": "164a6abc-b38f-4a9a-beac-7d3f8fa9f78f"
   },
   "outputs": [],
   "source": [
    "#Let us use a sample text file, nlphistory.txt, which is the text from the history section of Wikipedia's\n",
    "#page on Natural Language Processing \n",
    "#https://en.wikipedia.org/wiki/Natural_language_processing\n",
    "mytext = open('nlphistory.txt').read()\n"
   ]
  },
  {
   "cell_type": "code",
   "execution_count": 21,
   "metadata": {
    "id": "qbhMSoQd-PMK"
   },
   "outputs": [],
   "source": [
    "#convert the text into a spacy document.\n",
    "doc = textacy.make_spacy_doc(mytext, lang=en)"
   ]
  },
  {
   "cell_type": "code",
   "execution_count": 24,
   "metadata": {
    "colab": {
     "base_uri": "https://localhost:8080/"
    },
    "id": "K83I_YH5-PML",
    "outputId": "4f154541-7ac4-41a3-935e-c01756e36355"
   },
   "outputs": [],
   "source": [
    "key_terms=extract.keyterms.textrank(doc, topn=5)"
   ]
  },
  {
   "cell_type": "code",
   "execution_count": 27,
   "metadata": {
    "colab": {
     "base_uri": "https://localhost:8080/"
    },
    "id": "5I_-bohZ-PML",
    "outputId": "d6a28b63-f35f-4487-b879-7fdeb77d2e0c"
   },
   "outputs": [
    {
     "name": "stdout",
     "output_type": "stream",
     "text": [
      "Textrank output:  ['successful natural language processing system', 'statistical machine translation system', 'natural language system', 'statistical natural language processing', 'natural language task']\n",
      "SGRank output:  ['natural language processing system', 'statistical machine translation', 'research', 'late 1980', 'early']\n"
     ]
    }
   ],
   "source": [
    "#Print the keywords using TextRank algorithm, as implemented in Textacy.\n",
    "print(\"Textrank output: \", [kps for kps, weights in extract.keyterms.textrank(doc, normalize=\"lemma\", topn=5)])\\\n",
    "#Print the key words and phrases, using SGRank algorithm, as implemented in Textacy\n",
    "print(\"SGRank output: \", [kps for kps, weights in extract.keyterms.sgrank(doc, topn=5)])\n"
   ]
  },
  {
   "cell_type": "code",
   "execution_count": 33,
   "metadata": {
    "colab": {
     "base_uri": "https://localhost:8080/"
    },
    "id": "PySOp4Os-PMM",
    "outputId": "fc19f928-32f9-4b0b-c6a7-41042f33973f"
   },
   "outputs": [
    {
     "name": "stdout",
     "output_type": "stream",
     "text": [
      "natural language processing system\n",
      "statistical machine translation\n",
      "research\n",
      "late 1980\n",
      "early\n",
      "real\n",
      "world\n",
      "example\n",
      "statistical model\n",
      "ELIZA\n",
      "datum\n",
      "machine learning\n",
      "input datum\n",
      "information\n",
      "hand\n",
      "speech tagging\n",
      "year\n",
      "human\n",
      "result\n",
      "head\n"
     ]
    }
   ],
   "source": [
    "#To address the issue of overlapping key phrases, textacy has a function: aggregage_term_variants.\n",
    "#Choosing one of the grouped terms per item will give us a list of non-overlapping key phrases!\n",
    "# terms = set([term for term,weight in extract.keyterms.sgrank(doc)])\n",
    "# print(textacy.ke.utils.aggregate_term_variants(terms))\n",
    "\n",
    "from textacy import extract\n",
    "\n",
    "terms = extract.keyterms.sgrank(doc, normalize=\"lemma\", topn=20)\n",
    "for term, score in terms:\n",
    "    print(term)\n"
   ]
  },
  {
   "cell_type": "code",
   "execution_count": 36,
   "metadata": {
    "colab": {
     "base_uri": "https://localhost:8080/"
    },
    "id": "81sJfTis-PMM",
    "outputId": "05f268ba-9b64-4ebb-f53f-5fac07710211"
   },
   "outputs": [
    {
     "name": "stdout",
     "output_type": "stream",
     "text": [
      "[history, natural language processing, 1950s, work, earlier periods, Alan Turing, article, \"Intelligence, which, what, Turing test, criterion, intelligence, Georgetown experiment, fully automatic translation, more than sixty Russian sentences, English, authors, three or five years, machine translation, solved problem.[2, real progress, ALPAC report, which, ten-year-long research, expectations, funding, machine translation, Little further research, machine translation, late 1980s, first statistical machine translation systems, notably successful natural language processing systems, 1960s, natural language system, restricted \"blocks worlds, restricted vocabularies, ELIZA, simulation, Rogerian psychotherapist, Joseph Weizenbaum, almost no information, human thought, emotion, ELIZA, startlingly human-like interaction, \"patient, very small knowledge base, ELIZA, generic response, example, My head, you, your head, 1970s, many programmers, \"conceptual ontologies, which, real-world information, computer-understandable data, Examples, MARGIE, Schank, Cullingford, PAM, (Wilensky, TaleSpin, Meehan, QUALM, Lehnert, Politics, Carbonell, Plot Units, Lehnert, time, many chatterbots, PARRY, Racter, Jabberwacky, 1980s, most natural language processing systems, complex sets, hand-written rules, late 1980s, revolution, natural language processing, introduction, machine learning algorithms, language processing, This, both the steady increase, computational power, Moore's law, gradual lessening, dominance, Chomskyan theories, linguistics, e.g. transformational grammar, theoretical underpinnings, sort, corpus linguistics, that, machine-learning approach, language processing.[3, Some, decision trees, produced systems, existing hand-written rules, speech, use, hidden Markov models, natural language processing, research, statistical models, which, soft, probabilistic decisions, real-valued weights, features, input data, cache language models, which, many speech recognition systems, examples, such statistical models, Such models, unfamiliar input, especially input, that, errors, real-world data, more reliable results, larger system, multiple subtasks, notable early successes, field, machine translation, IBM Research, successively more complicated statistical models, systems, advantage, existing multilingual textual corpora, that, Parliament, Canada, European Union, result, laws, translation, governmental proceedings, official languages, corresponding systems, government, most other systems, corpora, tasks, systems, which, major limitation, success, systems, result, great deal, research, methods, limited amounts, data, Recent research, Such algorithms, data, that, desired answers, combination, annotated and non-annotated data, task, supervised learning, less accurate results, given amount, input data, enormous amount, non-annotated data, other things, entire content, World Wide Web, which, inferior results, algorithm, low enough time complexity, 2010s, representation learning, deep neural network-style machine learning methods, natural language processing, part, flurry, results, such techniques[4][5, -art, many natural language tasks, example, language modeling,[6] parsing,[7][8, many others, Popular techniques, use, word embeddings, semantic properties, words, increase, end, higher-level task, pipeline, separate intermediate tasks, speech, tagging, dependency, areas, shift, substantial changes, NLP systems, deep neural network-based approaches, new paradigm, statistical natural language processing, instance, term neural machine translation, NMT, fact, deep learning-based approaches, machine translation, sequence, need, intermediate steps, word alignment, language modeling, that, statistical machine translation, SMT]\n"
     ]
    }
   ],
   "source": [
    "#A way to look at key phrases is just consider all noun chunks as potential ones. \n",
    "#However, keep in mind this will result in a lot of phrases, and no way to rank them!\n",
    "\n",
    "print([chunk for chunk in textacy.extract.noun_chunks(doc)])"
   ]
  },
  {
   "cell_type": "markdown",
   "metadata": {
    "id": "IryG-zS4-PMN"
   },
   "source": [
    "Textacy also has a bunch of other information extraction functions, many of them based on regular expression patterns and heuristics to address extracting specific expressions such as acronyms and quotations. Apart from these, we can also extract matching custom regular expressions including POS tag patterns, or look for statements involving an entity, subject-verb-object tuples etc. We will discuss some of these as they come, in this chapter. \n",
    "\n",
    "Documentation: https://chartbeat-labs.github.io/textacy/build/html/index.html"
   ]
  }
 ],
 "metadata": {
  "accelerator": "GPU",
  "colab": {
   "name": "01_KPE.ipynb",
   "provenance": []
  },
  "kernelspec": {
   "display_name": "base",
   "language": "python",
   "name": "python3"
  },
  "language_info": {
   "codemirror_mode": {
    "name": "ipython",
    "version": 3
   },
   "file_extension": ".py",
   "mimetype": "text/x-python",
   "name": "python",
   "nbconvert_exporter": "python",
   "pygments_lexer": "ipython3",
   "version": "3.11.13"
  }
 },
 "nbformat": 4,
 "nbformat_minor": 1
}

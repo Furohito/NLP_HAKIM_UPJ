{
 "cells": [
  {
   "cell_type": "markdown",
   "metadata": {
    "colab_type": "text",
    "id": "QnXzcZvdc-r6"
   },
   "source": [
    "In this notebook we will demostrate how to perform tokenization,stemming,lemmatization and pos_tagging using libraries like [spacy](https://spacy.io/) and [nltk](https://www.nltk.org/) "
   ]
  },
  {
   "cell_type": "code",
   "execution_count": 9,
   "metadata": {},
   "outputs": [
    {
     "name": "stdout",
     "output_type": "stream",
     "text": [
      "Requirement already satisfied: nltk in c:\\users\\rende\\anaconda3\\lib\\site-packages (3.9.1)\n",
      "Requirement already satisfied: click in c:\\users\\rende\\anaconda3\\lib\\site-packages (from nltk) (8.1.8)\n",
      "Requirement already satisfied: joblib in c:\\users\\rende\\anaconda3\\lib\\site-packages (from nltk) (1.4.2)\n",
      "Requirement already satisfied: regex>=2021.8.3 in c:\\users\\rende\\anaconda3\\lib\\site-packages (from nltk) (2024.11.6)\n",
      "Requirement already satisfied: tqdm in c:\\users\\rende\\anaconda3\\lib\\site-packages (from nltk) (4.67.1)\n",
      "Requirement already satisfied: colorama in c:\\users\\rende\\appdata\\roaming\\python\\python313\\site-packages (from click->nltk) (0.4.6)\n",
      "Requirement already satisfied: spacy in c:\\users\\rende\\anaconda3\\lib\\site-packages (3.8.7)\n",
      "Requirement already satisfied: spacy-legacy<3.1.0,>=3.0.11 in c:\\users\\rende\\anaconda3\\lib\\site-packages (from spacy) (3.0.12)\n",
      "Requirement already satisfied: spacy-loggers<2.0.0,>=1.0.0 in c:\\users\\rende\\anaconda3\\lib\\site-packages (from spacy) (1.0.5)\n",
      "Requirement already satisfied: murmurhash<1.1.0,>=0.28.0 in c:\\users\\rende\\anaconda3\\lib\\site-packages (from spacy) (1.0.13)\n",
      "Requirement already satisfied: cymem<2.1.0,>=2.0.2 in c:\\users\\rende\\anaconda3\\lib\\site-packages (from spacy) (2.0.11)\n",
      "Requirement already satisfied: preshed<3.1.0,>=3.0.2 in c:\\users\\rende\\anaconda3\\lib\\site-packages (from spacy) (3.0.10)\n",
      "Requirement already satisfied: thinc<8.4.0,>=8.3.4 in c:\\users\\rende\\anaconda3\\lib\\site-packages (from spacy) (8.3.6)\n",
      "Requirement already satisfied: wasabi<1.2.0,>=0.9.1 in c:\\users\\rende\\anaconda3\\lib\\site-packages (from spacy) (1.1.3)\n",
      "Requirement already satisfied: srsly<3.0.0,>=2.4.3 in c:\\users\\rende\\anaconda3\\lib\\site-packages (from spacy) (2.5.1)\n",
      "Requirement already satisfied: catalogue<2.1.0,>=2.0.6 in c:\\users\\rende\\anaconda3\\lib\\site-packages (from spacy) (2.0.10)\n",
      "Requirement already satisfied: weasel<0.5.0,>=0.1.0 in c:\\users\\rende\\anaconda3\\lib\\site-packages (from spacy) (0.4.1)\n",
      "Requirement already satisfied: typer<1.0.0,>=0.3.0 in c:\\users\\rende\\anaconda3\\lib\\site-packages (from spacy) (0.9.0)\n",
      "Requirement already satisfied: tqdm<5.0.0,>=4.38.0 in c:\\users\\rende\\anaconda3\\lib\\site-packages (from spacy) (4.67.1)\n",
      "Requirement already satisfied: numpy>=1.19.0 in c:\\users\\rende\\anaconda3\\lib\\site-packages (from spacy) (2.1.3)\n",
      "Requirement already satisfied: requests<3.0.0,>=2.13.0 in c:\\users\\rende\\anaconda3\\lib\\site-packages (from spacy) (2.32.3)\n",
      "Requirement already satisfied: pydantic!=1.8,!=1.8.1,<3.0.0,>=1.7.4 in c:\\users\\rende\\anaconda3\\lib\\site-packages (from spacy) (2.10.3)\n",
      "Requirement already satisfied: jinja2 in c:\\users\\rende\\anaconda3\\lib\\site-packages (from spacy) (3.1.6)\n",
      "Requirement already satisfied: setuptools in c:\\users\\rende\\anaconda3\\lib\\site-packages (from spacy) (72.1.0)\n",
      "Requirement already satisfied: packaging>=20.0 in c:\\users\\rende\\anaconda3\\lib\\site-packages (from spacy) (24.2)\n",
      "Requirement already satisfied: langcodes<4.0.0,>=3.2.0 in c:\\users\\rende\\anaconda3\\lib\\site-packages (from spacy) (3.5.0)\n",
      "Requirement already satisfied: language-data>=1.2 in c:\\users\\rende\\anaconda3\\lib\\site-packages (from langcodes<4.0.0,>=3.2.0->spacy) (1.3.0)\n",
      "Requirement already satisfied: annotated-types>=0.6.0 in c:\\users\\rende\\anaconda3\\lib\\site-packages (from pydantic!=1.8,!=1.8.1,<3.0.0,>=1.7.4->spacy) (0.6.0)\n",
      "Requirement already satisfied: pydantic-core==2.27.1 in c:\\users\\rende\\anaconda3\\lib\\site-packages (from pydantic!=1.8,!=1.8.1,<3.0.0,>=1.7.4->spacy) (2.27.1)\n",
      "Requirement already satisfied: typing-extensions>=4.12.2 in c:\\users\\rende\\anaconda3\\lib\\site-packages (from pydantic!=1.8,!=1.8.1,<3.0.0,>=1.7.4->spacy) (4.12.2)\n",
      "Requirement already satisfied: charset-normalizer<4,>=2 in c:\\users\\rende\\anaconda3\\lib\\site-packages (from requests<3.0.0,>=2.13.0->spacy) (3.3.2)\n",
      "Requirement already satisfied: idna<4,>=2.5 in c:\\users\\rende\\anaconda3\\lib\\site-packages (from requests<3.0.0,>=2.13.0->spacy) (3.7)\n",
      "Requirement already satisfied: urllib3<3,>=1.21.1 in c:\\users\\rende\\anaconda3\\lib\\site-packages (from requests<3.0.0,>=2.13.0->spacy) (2.3.0)\n",
      "Requirement already satisfied: certifi>=2017.4.17 in c:\\users\\rende\\anaconda3\\lib\\site-packages (from requests<3.0.0,>=2.13.0->spacy) (2025.8.3)\n",
      "Requirement already satisfied: blis<1.4.0,>=1.3.0 in c:\\users\\rende\\anaconda3\\lib\\site-packages (from thinc<8.4.0,>=8.3.4->spacy) (1.3.0)\n",
      "Requirement already satisfied: confection<1.0.0,>=0.0.1 in c:\\users\\rende\\anaconda3\\lib\\site-packages (from thinc<8.4.0,>=8.3.4->spacy) (0.1.5)\n",
      "Requirement already satisfied: colorama in c:\\users\\rende\\appdata\\roaming\\python\\python313\\site-packages (from tqdm<5.0.0,>=4.38.0->spacy) (0.4.6)\n",
      "Requirement already satisfied: click<9.0.0,>=7.1.1 in c:\\users\\rende\\anaconda3\\lib\\site-packages (from typer<1.0.0,>=0.3.0->spacy) (8.1.8)\n",
      "Requirement already satisfied: cloudpathlib<1.0.0,>=0.7.0 in c:\\users\\rende\\anaconda3\\lib\\site-packages (from weasel<0.5.0,>=0.1.0->spacy) (0.22.0)\n",
      "Requirement already satisfied: smart-open<8.0.0,>=5.2.1 in c:\\users\\rende\\anaconda3\\lib\\site-packages (from weasel<0.5.0,>=0.1.0->spacy) (7.3.1)\n",
      "Requirement already satisfied: wrapt in c:\\users\\rende\\anaconda3\\lib\\site-packages (from smart-open<8.0.0,>=5.2.1->weasel<0.5.0,>=0.1.0->spacy) (1.17.0)\n",
      "Requirement already satisfied: marisa-trie>=1.1.0 in c:\\users\\rende\\anaconda3\\lib\\site-packages (from language-data>=1.2->langcodes<4.0.0,>=3.2.0->spacy) (1.3.1)\n",
      "Requirement already satisfied: MarkupSafe>=2.0 in c:\\users\\rende\\anaconda3\\lib\\site-packages (from jinja2->spacy) (3.0.2)\n"
     ]
    }
   ],
   "source": [
    "# To install only the requirements of this notebook, uncomment the lines below and run this cell\n",
    "\n",
    "# ===========================\n",
    "\n",
    "# !pip install numpy==1.19.5\n",
    "!pip install nltk\n",
    "!pip install spacy\n",
    "\n",
    "# ===========================\n"
   ]
  },
  {
   "cell_type": "code",
   "execution_count": 2,
   "metadata": {},
   "outputs": [
    {
     "name": "stdout",
     "output_type": "stream",
     "text": [
      "Collecting numpy==1.19.5 (from -r ch2-requirements.txt (line 1))\n",
      "  Using cached numpy-1.19.5.zip (7.3 MB)\n",
      "  Installing build dependencies: started\n",
      "  Installing build dependencies: finished with status 'done'\n",
      "  Getting requirements to build wheel: started\n",
      "  Getting requirements to build wheel: finished with status 'done'\n"
     ]
    },
    {
     "name": "stderr",
     "output_type": "stream",
     "text": [
      "ERROR: Exception:\n",
      "Traceback (most recent call last):\n",
      "  File \"C:\\Users\\rende\\anaconda3\\Lib\\site-packages\\pip\\_internal\\cli\\base_command.py\", line 105, in _run_wrapper\n",
      "    status = _inner_run()\n",
      "  File \"C:\\Users\\rende\\anaconda3\\Lib\\site-packages\\pip\\_internal\\cli\\base_command.py\", line 96, in _inner_run\n",
      "    return self.run(options, args)\n",
      "           ~~~~~~~~^^^^^^^^^^^^^^^\n",
      "  File \"C:\\Users\\rende\\anaconda3\\Lib\\site-packages\\pip\\_internal\\cli\\req_command.py\", line 68, in wrapper\n",
      "    return func(self, options, args)\n",
      "  File \"C:\\Users\\rende\\anaconda3\\Lib\\site-packages\\pip\\_internal\\commands\\install.py\", line 387, in run\n",
      "    requirement_set = resolver.resolve(\n",
      "        reqs, check_supported_wheels=not options.target_dir\n",
      "    )\n",
      "  File \"C:\\Users\\rende\\anaconda3\\Lib\\site-packages\\pip\\_internal\\resolution\\resolvelib\\resolver.py\", line 96, in resolve\n",
      "    result = self._result = resolver.resolve(\n",
      "                            ~~~~~~~~~~~~~~~~^\n",
      "        collected.requirements, max_rounds=limit_how_complex_resolution_can_be\n",
      "        ^^^^^^^^^^^^^^^^^^^^^^^^^^^^^^^^^^^^^^^^^^^^^^^^^^^^^^^^^^^^^^^^^^^^^^\n",
      "    )\n",
      "    ^\n",
      "  File \"C:\\Users\\rende\\anaconda3\\Lib\\site-packages\\pip\\_vendor\\resolvelib\\resolvers\\resolution.py\", line 515, in resolve\n",
      "    state = resolution.resolve(requirements, max_rounds=max_rounds)\n",
      "  File \"C:\\Users\\rende\\anaconda3\\Lib\\site-packages\\pip\\_vendor\\resolvelib\\resolvers\\resolution.py\", line 388, in resolve\n",
      "    self._add_to_criteria(self.state.criteria, r, parent=None)\n",
      "    ~~~~~~~~~~~~~~~~~~~~~^^^^^^^^^^^^^^^^^^^^^^^^^^^^^^^^^^^^^\n",
      "  File \"C:\\Users\\rende\\anaconda3\\Lib\\site-packages\\pip\\_vendor\\resolvelib\\resolvers\\resolution.py\", line 141, in _add_to_criteria\n",
      "    if not criterion.candidates:\n",
      "           ^^^^^^^^^^^^^^^^^^^^\n",
      "  File \"C:\\Users\\rende\\anaconda3\\Lib\\site-packages\\pip\\_vendor\\resolvelib\\structs.py\", line 194, in __bool__\n",
      "    return bool(self._sequence)\n",
      "  File \"C:\\Users\\rende\\anaconda3\\Lib\\site-packages\\pip\\_internal\\resolution\\resolvelib\\found_candidates.py\", line 163, in __bool__\n",
      "    self._bool = any(self)\n",
      "                 ~~~^^^^^^\n",
      "  File \"C:\\Users\\rende\\anaconda3\\Lib\\site-packages\\pip\\_internal\\resolution\\resolvelib\\found_candidates.py\", line 147, in <genexpr>\n",
      "    return (c for c in iterator if id(c) not in self._incompatible_ids)\n",
      "                       ^^^^^^^^\n",
      "  File \"C:\\Users\\rende\\anaconda3\\Lib\\site-packages\\pip\\_internal\\resolution\\resolvelib\\found_candidates.py\", line 37, in _iter_built\n",
      "    candidate = func()\n",
      "  File \"C:\\Users\\rende\\anaconda3\\Lib\\site-packages\\pip\\_internal\\resolution\\resolvelib\\factory.py\", line 187, in _make_candidate_from_link\n",
      "    base: Optional[BaseCandidate] = self._make_base_candidate_from_link(\n",
      "                                    ~~~~~~~~~~~~~~~~~~~~~~~~~~~~~~~~~~~^\n",
      "        link, template, name, version\n",
      "        ^^^^^^^^^^^^^^^^^^^^^^^^^^^^^\n",
      "    )\n",
      "    ^\n",
      "  File \"C:\\Users\\rende\\anaconda3\\Lib\\site-packages\\pip\\_internal\\resolution\\resolvelib\\factory.py\", line 233, in _make_base_candidate_from_link\n",
      "    self._link_candidate_cache[link] = LinkCandidate(\n",
      "                                       ~~~~~~~~~~~~~^\n",
      "        link,\n",
      "        ^^^^^\n",
      "    ...<3 lines>...\n",
      "        version=version,\n",
      "        ^^^^^^^^^^^^^^^^\n",
      "    )\n",
      "    ^\n",
      "  File \"C:\\Users\\rende\\anaconda3\\Lib\\site-packages\\pip\\_internal\\resolution\\resolvelib\\candidates.py\", line 306, in __init__\n",
      "    super().__init__(\n",
      "    ~~~~~~~~~~~~~~~~^\n",
      "        link=link,\n",
      "        ^^^^^^^^^^\n",
      "    ...<4 lines>...\n",
      "        version=version,\n",
      "        ^^^^^^^^^^^^^^^^\n",
      "    )\n",
      "    ^\n",
      "  File \"C:\\Users\\rende\\anaconda3\\Lib\\site-packages\\pip\\_internal\\resolution\\resolvelib\\candidates.py\", line 159, in __init__\n",
      "    self.dist = self._prepare()\n",
      "                ~~~~~~~~~~~~~^^\n",
      "  File \"C:\\Users\\rende\\anaconda3\\Lib\\site-packages\\pip\\_internal\\resolution\\resolvelib\\candidates.py\", line 236, in _prepare\n",
      "    dist = self._prepare_distribution()\n",
      "  File \"C:\\Users\\rende\\anaconda3\\Lib\\site-packages\\pip\\_internal\\resolution\\resolvelib\\candidates.py\", line 317, in _prepare_distribution\n",
      "    return preparer.prepare_linked_requirement(self._ireq, parallel_builds=True)\n",
      "           ~~~~~~~~~~~~~~~~~~~~~~~~~~~~~~~~~~~^^^^^^^^^^^^^^^^^^^^^^^^^^^^^^^^^^\n",
      "  File \"C:\\Users\\rende\\anaconda3\\Lib\\site-packages\\pip\\_internal\\operations\\prepare.py\", line 532, in prepare_linked_requirement\n",
      "    return self._prepare_linked_requirement(req, parallel_builds)\n",
      "           ~~~~~~~~~~~~~~~~~~~~~~~~~~~~~~~~^^^^^^^^^^^^^^^^^^^^^^\n",
      "  File \"C:\\Users\\rende\\anaconda3\\Lib\\site-packages\\pip\\_internal\\operations\\prepare.py\", line 647, in _prepare_linked_requirement\n",
      "    dist = _get_prepared_distribution(\n",
      "        req,\n",
      "    ...<3 lines>...\n",
      "        self.check_build_deps,\n",
      "    )\n",
      "  File \"C:\\Users\\rende\\anaconda3\\Lib\\site-packages\\pip\\_internal\\operations\\prepare.py\", line 71, in _get_prepared_distribution\n",
      "    abstract_dist.prepare_distribution_metadata(\n",
      "    ~~~~~~~~~~~~~~~~~~~~~~~~~~~~~~~~~~~~~~~~~~~^\n",
      "        finder, build_isolation, check_build_deps\n",
      "        ^^^^^^^^^^^^^^^^^^^^^^^^^^^^^^^^^^^^^^^^^\n",
      "    )\n",
      "    ^\n",
      "  File \"C:\\Users\\rende\\anaconda3\\Lib\\site-packages\\pip\\_internal\\distributions\\sdist.py\", line 56, in prepare_distribution_metadata\n",
      "    self._install_build_reqs(finder)\n",
      "    ~~~~~~~~~~~~~~~~~~~~~~~~^^^^^^^^\n",
      "  File \"C:\\Users\\rende\\anaconda3\\Lib\\site-packages\\pip\\_internal\\distributions\\sdist.py\", line 126, in _install_build_reqs\n",
      "    build_reqs = self._get_build_requires_wheel()\n",
      "  File \"C:\\Users\\rende\\anaconda3\\Lib\\site-packages\\pip\\_internal\\distributions\\sdist.py\", line 103, in _get_build_requires_wheel\n",
      "    return backend.get_requires_for_build_wheel()\n",
      "           ~~~~~~~~~~~~~~~~~~~~~~~~~~~~~~~~~~~~^^\n",
      "  File \"C:\\Users\\rende\\anaconda3\\Lib\\site-packages\\pip\\_internal\\utils\\misc.py\", line 684, in get_requires_for_build_wheel\n",
      "    return super().get_requires_for_build_wheel(config_settings=cs)\n",
      "           ~~~~~~~~~~~~~~~~~~~~~~~~~~~~~~~~~~~~^^^^^^^^^^^^^^^^^^^^\n",
      "  File \"C:\\Users\\rende\\anaconda3\\Lib\\site-packages\\pip\\_vendor\\pyproject_hooks\\_impl.py\", line 196, in get_requires_for_build_wheel\n",
      "    return self._call_hook(\n",
      "           ~~~~~~~~~~~~~~~^\n",
      "        \"get_requires_for_build_wheel\", {\"config_settings\": config_settings}\n",
      "        ^^^^^^^^^^^^^^^^^^^^^^^^^^^^^^^^^^^^^^^^^^^^^^^^^^^^^^^^^^^^^^^^^^^^\n",
      "    )\n",
      "    ^\n",
      "  File \"C:\\Users\\rende\\anaconda3\\Lib\\site-packages\\pip\\_vendor\\pyproject_hooks\\_impl.py\", line 402, in _call_hook\n",
      "    raise BackendUnavailable(\n",
      "    ...<4 lines>...\n",
      "    )\n",
      "pip._vendor.pyproject_hooks._impl.BackendUnavailable: Cannot import 'setuptools.build_meta'\n"
     ]
    }
   ],
   "source": [
    "# To install the requirements for the entire chapter, uncomment the lines below and run this cell\n",
    "\n",
    "# ===========================\n",
    "\n",
    "try:\n",
    "    import google.colab\n",
    "    !curl https://raw.githubusercontent.com/practical-nlp/practical-nlp/master/Ch2/ch2-requirements.txt | xargs -n 1 -L 1 pip install\n",
    "except ModuleNotFoundError:\n",
    "    !pip install -r \"ch2-requirements.txt\"\n",
    "\n",
    "# ==========================="
   ]
  },
  {
   "cell_type": "code",
   "execution_count": 3,
   "metadata": {
    "colab": {},
    "colab_type": "code",
    "id": "R3xEmJpRc5r8"
   },
   "outputs": [],
   "source": [
    "#This will be our corpus which we will work on\n",
    "corpus_original = \"Need to finalize the demo corpus which will be used for this notebook and it should be done soon !!. It should be done by the ending of this month. But will it? This notebook has been run 4 times !!\"\n",
    "corpus = \"Need to finalize the demo corpus which will be used for this notebook & should be done soon !!. It should be done by the ending of this month. But will it? This notebook has been run 4 times !!\""
   ]
  },
  {
   "cell_type": "code",
   "execution_count": 4,
   "metadata": {
    "colab": {
     "base_uri": "https://localhost:8080/",
     "height": 54
    },
    "colab_type": "code",
    "id": "KHh_33IopPTf",
    "outputId": "fa12e7e4-aeb3-4053-be10-3cadad90d094"
   },
   "outputs": [
    {
     "name": "stdout",
     "output_type": "stream",
     "text": [
      "need to finalize the demo corpus which will be used for this notebook & should be done soon !!. it should be done by the ending of this month. but will it? this notebook has been run 4 times !!\n"
     ]
    }
   ],
   "source": [
    "#lower case the corpus\n",
    "corpus = corpus.lower()\n",
    "print(corpus)"
   ]
  },
  {
   "cell_type": "code",
   "execution_count": 5,
   "metadata": {
    "colab": {
     "base_uri": "https://localhost:8080/",
     "height": 54
    },
    "colab_type": "code",
    "id": "3yaGf8RiqgBM",
    "outputId": "859abb8b-3a34-4e23-bd8e-963520fb6ed3"
   },
   "outputs": [
    {
     "name": "stdout",
     "output_type": "stream",
     "text": [
      "need to finalize the demo corpus which will be used for this notebook & should be done soon !!. it should be done by the ending of this month. but will it? this notebook has been run  times !!\n"
     ]
    }
   ],
   "source": [
    "#removing digits in the corpus\n",
    "import re\n",
    "corpus = re.sub(r'\\d+','', corpus)\n",
    "print(corpus)"
   ]
  },
  {
   "cell_type": "code",
   "execution_count": 6,
   "metadata": {
    "colab": {
     "base_uri": "https://localhost:8080/",
     "height": 34
    },
    "colab_type": "code",
    "id": "v5Q--GItqzfu",
    "outputId": "82fec440-1251-4ba1-cdf4-f1cab3c2a607"
   },
   "outputs": [
    {
     "name": "stdout",
     "output_type": "stream",
     "text": [
      "need to finalize the demo corpus which will be used for this notebook  should be done soon  it should be done by the ending of this month but will it this notebook has been run  times \n"
     ]
    }
   ],
   "source": [
    "#removing punctuations\n",
    "import string\n",
    "corpus = corpus.translate(str.maketrans('', '', string.punctuation))\n",
    "print(corpus)"
   ]
  },
  {
   "cell_type": "code",
   "execution_count": 7,
   "metadata": {
    "colab": {
     "base_uri": "https://localhost:8080/",
     "height": 52
    },
    "colab_type": "code",
    "id": "zmANqee9rK4N",
    "outputId": "6105b616-e770-409a-88b0-3f23dd3ffd72"
   },
   "outputs": [
    {
     "data": {
      "text/plain": [
       "'need to finalize the demo corpus which will be used for this notebook should be done soon it should be done by the ending of this month but will it this notebook has been run times'"
      ]
     },
     "execution_count": 7,
     "metadata": {},
     "output_type": "execute_result"
    }
   ],
   "source": [
    "#removing trailing whitespaces\n",
    "corpus = ' '.join([token for token in corpus.split()])\n",
    "corpus"
   ]
  },
  {
   "cell_type": "code",
   "execution_count": 8,
   "metadata": {},
   "outputs": [
    {
     "name": "stdout",
     "output_type": "stream",
     "text": [
      "Collecting en-core-web-sm==3.8.0\n",
      "  Downloading https://github.com/explosion/spacy-models/releases/download/en_core_web_sm-3.8.0/en_core_web_sm-3.8.0-py3-none-any.whl (12.8 MB)\n",
      "     ---------------------------------------- 0.0/12.8 MB ? eta -:--:--\n",
      "     ---------------------------------------- 0.0/12.8 MB ? eta -:--:--\n",
      "     ---------------------------------------- 0.0/12.8 MB ? eta -:--:--\n",
      "      --------------------------------------- 0.3/12.8 MB ? eta -:--:--\n",
      "      --------------------------------------- 0.3/12.8 MB ? eta -:--:--\n",
      "      --------------------------------------- 0.3/12.8 MB ? eta -:--:--\n",
      "      --------------------------------------- 0.3/12.8 MB ? eta -:--:--\n",
      "      --------------------------------------- 0.3/12.8 MB ? eta -:--:--\n",
      "     - ------------------------------------- 0.5/12.8 MB 289.4 kB/s eta 0:00:43\n",
      "     - ------------------------------------- 0.5/12.8 MB 289.4 kB/s eta 0:00:43\n",
      "     - ------------------------------------- 0.5/12.8 MB 289.4 kB/s eta 0:00:43\n",
      "     -- ------------------------------------ 0.8/12.8 MB 302.7 kB/s eta 0:00:40\n",
      "     -- ------------------------------------ 0.8/12.8 MB 302.7 kB/s eta 0:00:40\n",
      "     -- ------------------------------------ 0.8/12.8 MB 302.7 kB/s eta 0:00:40\n",
      "     --- ----------------------------------- 1.0/12.8 MB 332.3 kB/s eta 0:00:36\n",
      "     --- ----------------------------------- 1.0/12.8 MB 332.3 kB/s eta 0:00:36\n",
      "     --- ----------------------------------- 1.0/12.8 MB 332.3 kB/s eta 0:00:36\n",
      "     --- ----------------------------------- 1.0/12.8 MB 332.3 kB/s eta 0:00:36\n",
      "     --- ----------------------------------- 1.0/12.8 MB 332.3 kB/s eta 0:00:36\n",
      "     --- ----------------------------------- 1.3/12.8 MB 310.4 kB/s eta 0:00:38\n",
      "     --- ----------------------------------- 1.3/12.8 MB 310.4 kB/s eta 0:00:38\n",
      "     --- ----------------------------------- 1.3/12.8 MB 310.4 kB/s eta 0:00:38\n",
      "     --- ----------------------------------- 1.3/12.8 MB 310.4 kB/s eta 0:00:38\n",
      "     --- ----------------------------------- 1.3/12.8 MB 310.4 kB/s eta 0:00:38\n",
      "     --- ----------------------------------- 1.3/12.8 MB 310.4 kB/s eta 0:00:38\n",
      "     --- ----------------------------------- 1.3/12.8 MB 310.4 kB/s eta 0:00:38\n",
      "     --- ----------------------------------- 1.3/12.8 MB 310.4 kB/s eta 0:00:38\n",
      "     --- ----------------------------------- 1.3/12.8 MB 310.4 kB/s eta 0:00:38\n",
      "     --- ----------------------------------- 1.3/12.8 MB 310.4 kB/s eta 0:00:38\n",
      "     --- ----------------------------------- 1.3/12.8 MB 310.4 kB/s eta 0:00:38\n",
      "     --- ----------------------------------- 1.3/12.8 MB 310.4 kB/s eta 0:00:38\n",
      "     --- ----------------------------------- 1.3/12.8 MB 310.4 kB/s eta 0:00:38\n",
      "     --- ----------------------------------- 1.3/12.8 MB 310.4 kB/s eta 0:00:38\n",
      "     --- ----------------------------------- 1.3/12.8 MB 310.4 kB/s eta 0:00:38\n",
      "     --- ----------------------------------- 1.3/12.8 MB 310.4 kB/s eta 0:00:38\n",
      "     --- ----------------------------------- 1.3/12.8 MB 310.4 kB/s eta 0:00:38\n",
      "     --- ----------------------------------- 1.3/12.8 MB 310.4 kB/s eta 0:00:38\n",
      "     --- ----------------------------------- 1.3/12.8 MB 310.4 kB/s eta 0:00:38\n",
      "     ---- ---------------------------------- 1.6/12.8 MB 178.3 kB/s eta 0:01:04\n",
      "     ---- ---------------------------------- 1.6/12.8 MB 178.3 kB/s eta 0:01:04\n",
      "     ---- ---------------------------------- 1.6/12.8 MB 178.3 kB/s eta 0:01:04\n",
      "     ---- ---------------------------------- 1.6/12.8 MB 178.3 kB/s eta 0:01:04\n",
      "     ----- --------------------------------- 1.8/12.8 MB 189.7 kB/s eta 0:00:58\n",
      "     ----- --------------------------------- 1.8/12.8 MB 189.7 kB/s eta 0:00:58\n",
      "     ----- --------------------------------- 1.8/12.8 MB 189.7 kB/s eta 0:00:58\n",
      "     ------ -------------------------------- 2.1/12.8 MB 203.6 kB/s eta 0:00:53\n",
      "     ------ -------------------------------- 2.1/12.8 MB 203.6 kB/s eta 0:00:53\n",
      "     ------ -------------------------------- 2.1/12.8 MB 203.6 kB/s eta 0:00:53\n",
      "     ------ -------------------------------- 2.1/12.8 MB 203.6 kB/s eta 0:00:53\n",
      "     ------ -------------------------------- 2.1/12.8 MB 203.6 kB/s eta 0:00:53\n",
      "     ------- ------------------------------- 2.4/12.8 MB 209.1 kB/s eta 0:00:50\n",
      "     ------- ------------------------------- 2.4/12.8 MB 209.1 kB/s eta 0:00:50\n",
      "     ------- ------------------------------- 2.4/12.8 MB 209.1 kB/s eta 0:00:50\n",
      "     ------- ------------------------------- 2.4/12.8 MB 209.1 kB/s eta 0:00:50\n",
      "     ------- ------------------------------- 2.4/12.8 MB 209.1 kB/s eta 0:00:50\n",
      "     ------- ------------------------------- 2.4/12.8 MB 209.1 kB/s eta 0:00:50\n",
      "     ------- ------------------------------- 2.4/12.8 MB 209.1 kB/s eta 0:00:50\n",
      "     ------- ------------------------------- 2.4/12.8 MB 209.1 kB/s eta 0:00:50\n",
      "     ------- ------------------------------- 2.4/12.8 MB 209.1 kB/s eta 0:00:50\n",
      "     ------- ------------------------------- 2.4/12.8 MB 209.1 kB/s eta 0:00:50\n",
      "     ------- ------------------------------- 2.4/12.8 MB 209.1 kB/s eta 0:00:50\n",
      "     ------- ------------------------------- 2.4/12.8 MB 209.1 kB/s eta 0:00:50\n",
      "     ------- ------------------------------- 2.4/12.8 MB 209.1 kB/s eta 0:00:50\n",
      "     ------- ------------------------------- 2.4/12.8 MB 209.1 kB/s eta 0:00:50\n",
      "     ------- ------------------------------- 2.4/12.8 MB 209.1 kB/s eta 0:00:50\n",
      "     ------- ------------------------------- 2.4/12.8 MB 209.1 kB/s eta 0:00:50\n",
      "     ------- ------------------------------- 2.4/12.8 MB 209.1 kB/s eta 0:00:50\n",
      "     ------- ------------------------------- 2.4/12.8 MB 209.1 kB/s eta 0:00:50\n",
      "     ------- ------------------------------- 2.4/12.8 MB 209.1 kB/s eta 0:00:50\n",
      "     ------- ------------------------------- 2.4/12.8 MB 209.1 kB/s eta 0:00:50\n",
      "     ------- ------------------------------- 2.4/12.8 MB 209.1 kB/s eta 0:00:50\n",
      "     ------- ------------------------------- 2.4/12.8 MB 209.1 kB/s eta 0:00:50\n",
      "     ------- ------------------------------- 2.4/12.8 MB 209.1 kB/s eta 0:00:50\n",
      "     ------- ------------------------------- 2.4/12.8 MB 209.1 kB/s eta 0:00:50\n",
      "     -------- ------------------------------ 2.9/12.8 MB 173.6 kB/s eta 0:00:58\n",
      "     -------- ------------------------------ 2.9/12.8 MB 173.6 kB/s eta 0:00:58\n",
      "     -------- ------------------------------ 2.9/12.8 MB 173.6 kB/s eta 0:00:58\n",
      "     -------- ------------------------------ 2.9/12.8 MB 173.6 kB/s eta 0:00:58\n",
      "     -------- ------------------------------ 2.9/12.8 MB 173.6 kB/s eta 0:00:58\n",
      "     --------- ----------------------------- 3.1/12.8 MB 179.3 kB/s eta 0:00:54\n",
      "     --------- ----------------------------- 3.1/12.8 MB 179.3 kB/s eta 0:00:54\n",
      "     --------- ----------------------------- 3.1/12.8 MB 179.3 kB/s eta 0:00:54\n",
      "     --------- ----------------------------- 3.1/12.8 MB 179.3 kB/s eta 0:00:54\n",
      "     --------- ----------------------------- 3.1/12.8 MB 179.3 kB/s eta 0:00:54\n",
      "     --------- ----------------------------- 3.1/12.8 MB 179.3 kB/s eta 0:00:54\n",
      "     --------- ----------------------------- 3.1/12.8 MB 179.3 kB/s eta 0:00:54\n",
      "     --------- ----------------------------- 3.1/12.8 MB 179.3 kB/s eta 0:00:54\n",
      "     --------- ----------------------------- 3.1/12.8 MB 179.3 kB/s eta 0:00:54\n",
      "     ---------- ---------------------------- 3.4/12.8 MB 174.2 kB/s eta 0:00:54\n",
      "     ---------- ---------------------------- 3.4/12.8 MB 174.2 kB/s eta 0:00:54\n",
      "     ---------- ---------------------------- 3.4/12.8 MB 174.2 kB/s eta 0:00:54\n",
      "     ---------- ---------------------------- 3.4/12.8 MB 174.2 kB/s eta 0:00:54\n",
      "     ---------- ---------------------------- 3.4/12.8 MB 174.2 kB/s eta 0:00:54\n",
      "     ----------- --------------------------- 3.7/12.8 MB 178.4 kB/s eta 0:00:52\n",
      "     ----------- --------------------------- 3.9/12.8 MB 190.9 kB/s eta 0:00:47\n",
      "     ----------- --------------------------- 3.9/12.8 MB 190.9 kB/s eta 0:00:47\n",
      "     ----------- --------------------------- 3.9/12.8 MB 190.9 kB/s eta 0:00:47\n",
      "     ------------ -------------------------- 4.2/12.8 MB 196.9 kB/s eta 0:00:44\n",
      "     ------------ -------------------------- 4.2/12.8 MB 196.9 kB/s eta 0:00:44\n",
      "     ------------- ------------------------- 4.5/12.8 MB 206.4 kB/s eta 0:00:41\n",
      "     ------------- ------------------------- 4.5/12.8 MB 206.4 kB/s eta 0:00:41\n",
      "     ------------- ------------------------- 4.5/12.8 MB 206.4 kB/s eta 0:00:41\n",
      "     -------------- ------------------------ 4.7/12.8 MB 212.4 kB/s eta 0:00:39\n",
      "     -------------- ------------------------ 4.7/12.8 MB 212.4 kB/s eta 0:00:39\n",
      "     -------------- ------------------------ 4.7/12.8 MB 212.4 kB/s eta 0:00:39\n",
      "     -------------- ------------------------ 4.7/12.8 MB 212.4 kB/s eta 0:00:39\n",
      "     -------------- ------------------------ 4.7/12.8 MB 212.4 kB/s eta 0:00:39\n",
      "     --------------- ----------------------- 5.0/12.8 MB 213.5 kB/s eta 0:00:37\n",
      "     --------------- ----------------------- 5.0/12.8 MB 213.5 kB/s eta 0:00:37\n",
      "     --------------- ----------------------- 5.0/12.8 MB 213.5 kB/s eta 0:00:37\n",
      "     --------------- ----------------------- 5.0/12.8 MB 213.5 kB/s eta 0:00:37\n",
      "     --------------- ----------------------- 5.0/12.8 MB 213.5 kB/s eta 0:00:37\n",
      "     --------------- ----------------------- 5.0/12.8 MB 213.5 kB/s eta 0:00:37\n",
      "     --------------- ----------------------- 5.0/12.8 MB 213.5 kB/s eta 0:00:37\n",
      "     --------------- ----------------------- 5.0/12.8 MB 213.5 kB/s eta 0:00:37\n",
      "     --------------- ----------------------- 5.0/12.8 MB 213.5 kB/s eta 0:00:37\n",
      "     --------------- ----------------------- 5.0/12.8 MB 213.5 kB/s eta 0:00:37\n",
      "     --------------- ----------------------- 5.0/12.8 MB 213.5 kB/s eta 0:00:37\n",
      "     --------------- ----------------------- 5.0/12.8 MB 213.5 kB/s eta 0:00:37\n",
      "     --------------- ----------------------- 5.0/12.8 MB 213.5 kB/s eta 0:00:37\n",
      "     --------------- ----------------------- 5.0/12.8 MB 213.5 kB/s eta 0:00:37\n",
      "     ---------------- ---------------------- 5.5/12.8 MB 208.7 kB/s eta 0:00:35\n",
      "     ---------------- ---------------------- 5.5/12.8 MB 208.7 kB/s eta 0:00:35\n",
      "     ----------------- --------------------- 5.8/12.8 MB 216.8 kB/s eta 0:00:33\n",
      "     ----------------- --------------------- 5.8/12.8 MB 216.8 kB/s eta 0:00:33\n",
      "     ------------------ -------------------- 6.0/12.8 MB 222.2 kB/s eta 0:00:31\n",
      "     ------------------ -------------------- 6.0/12.8 MB 222.2 kB/s eta 0:00:31\n",
      "     ------------------ -------------------- 6.0/12.8 MB 222.2 kB/s eta 0:00:31\n",
      "     ------------------- ------------------- 6.3/12.8 MB 226.3 kB/s eta 0:00:29\n",
      "     ------------------- ------------------- 6.3/12.8 MB 226.3 kB/s eta 0:00:29\n",
      "     ------------------- ------------------- 6.3/12.8 MB 226.3 kB/s eta 0:00:29\n",
      "     ------------------- ------------------- 6.3/12.8 MB 226.3 kB/s eta 0:00:29\n",
      "     ------------------- ------------------- 6.3/12.8 MB 226.3 kB/s eta 0:00:29\n",
      "     ------------------- ------------------- 6.3/12.8 MB 226.3 kB/s eta 0:00:29\n",
      "     ------------------- ------------------- 6.3/12.8 MB 226.3 kB/s eta 0:00:29\n",
      "     ------------------- ------------------- 6.6/12.8 MB 223.9 kB/s eta 0:00:28\n",
      "     ------------------- ------------------- 6.6/12.8 MB 223.9 kB/s eta 0:00:28\n",
      "     ------------------- ------------------- 6.6/12.8 MB 223.9 kB/s eta 0:00:28\n",
      "     ------------------- ------------------- 6.6/12.8 MB 223.9 kB/s eta 0:00:28\n",
      "     -------------------- ------------------ 6.8/12.8 MB 227.5 kB/s eta 0:00:27\n",
      "     -------------------- ------------------ 6.8/12.8 MB 227.5 kB/s eta 0:00:27\n",
      "     -------------------- ------------------ 6.8/12.8 MB 227.5 kB/s eta 0:00:27\n",
      "     --------------------- ----------------- 7.1/12.8 MB 231.6 kB/s eta 0:00:25\n",
      "     --------------------- ----------------- 7.1/12.8 MB 231.6 kB/s eta 0:00:25\n",
      "     --------------------- ----------------- 7.1/12.8 MB 231.6 kB/s eta 0:00:25\n",
      "     --------------------- ----------------- 7.1/12.8 MB 231.6 kB/s eta 0:00:25\n",
      "     --------------------- ----------------- 7.1/12.8 MB 231.6 kB/s eta 0:00:25\n",
      "     --------------------- ----------------- 7.1/12.8 MB 231.6 kB/s eta 0:00:25\n",
      "     --------------------- ----------------- 7.1/12.8 MB 231.6 kB/s eta 0:00:25\n",
      "     --------------------- ----------------- 7.1/12.8 MB 231.6 kB/s eta 0:00:25\n",
      "     --------------------- ----------------- 7.1/12.8 MB 231.6 kB/s eta 0:00:25\n",
      "     --------------------- ----------------- 7.1/12.8 MB 231.6 kB/s eta 0:00:25\n",
      "     --------------------- ----------------- 7.1/12.8 MB 231.6 kB/s eta 0:00:25\n",
      "     --------------------- ----------------- 7.1/12.8 MB 231.6 kB/s eta 0:00:25\n",
      "     --------------------- ----------------- 7.1/12.8 MB 231.6 kB/s eta 0:00:25\n",
      "     --------------------- ----------------- 7.1/12.8 MB 231.6 kB/s eta 0:00:25\n",
      "     --------------------- ----------------- 7.1/12.8 MB 231.6 kB/s eta 0:00:25\n",
      "     --------------------- ----------------- 7.1/12.8 MB 231.6 kB/s eta 0:00:25\n",
      "     --------------------- ----------------- 7.1/12.8 MB 231.6 kB/s eta 0:00:25\n",
      "     --------------------- ----------------- 7.1/12.8 MB 231.6 kB/s eta 0:00:25\n",
      "     --------------------- ----------------- 7.1/12.8 MB 231.6 kB/s eta 0:00:25\n",
      "     --------------------- ----------------- 7.1/12.8 MB 231.6 kB/s eta 0:00:25\n",
      "     --------------------- ----------------- 7.1/12.8 MB 231.6 kB/s eta 0:00:25\n",
      "     --------------------- ----------------- 7.1/12.8 MB 231.6 kB/s eta 0:00:25\n",
      "     --------------------- ----------------- 7.1/12.8 MB 231.6 kB/s eta 0:00:25\n",
      "     --------------------- ----------------- 7.1/12.8 MB 231.6 kB/s eta 0:00:25\n",
      "     --------------------- ----------------- 7.1/12.8 MB 231.6 kB/s eta 0:00:25\n",
      "     --------------------- ----------------- 7.1/12.8 MB 231.6 kB/s eta 0:00:25\n",
      "     ---------------------- ---------------- 7.3/12.8 MB 208.3 kB/s eta 0:00:27\n",
      "     ---------------------- ---------------- 7.3/12.8 MB 208.3 kB/s eta 0:00:27\n",
      "     ---------------------- ---------------- 7.3/12.8 MB 208.3 kB/s eta 0:00:27\n",
      "     ---------------------- ---------------- 7.3/12.8 MB 208.3 kB/s eta 0:00:27\n",
      "     ---------------------- ---------------- 7.3/12.8 MB 208.3 kB/s eta 0:00:27\n",
      "     ---------------------- ---------------- 7.3/12.8 MB 208.3 kB/s eta 0:00:27\n",
      "     ---------------------- ---------------- 7.3/12.8 MB 208.3 kB/s eta 0:00:27\n",
      "     ----------------------- --------------- 7.6/12.8 MB 206.9 kB/s eta 0:00:26\n",
      "     ----------------------- --------------- 7.6/12.8 MB 206.9 kB/s eta 0:00:26\n",
      "     ----------------------- --------------- 7.6/12.8 MB 206.9 kB/s eta 0:00:26\n",
      "     ----------------------- --------------- 7.6/12.8 MB 206.9 kB/s eta 0:00:26\n",
      "     ----------------------- --------------- 7.9/12.8 MB 210.7 kB/s eta 0:00:24\n",
      "     ----------------------- --------------- 7.9/12.8 MB 210.7 kB/s eta 0:00:24\n",
      "     ----------------------- --------------- 7.9/12.8 MB 210.7 kB/s eta 0:00:24\n",
      "     ------------------------ -------------- 8.1/12.8 MB 212.4 kB/s eta 0:00:23\n",
      "     ------------------------ -------------- 8.1/12.8 MB 212.4 kB/s eta 0:00:23\n",
      "     ------------------------ -------------- 8.1/12.8 MB 212.4 kB/s eta 0:00:23\n",
      "     ------------------------- ------------- 8.4/12.8 MB 213.2 kB/s eta 0:00:21\n",
      "     ------------------------- ------------- 8.4/12.8 MB 213.2 kB/s eta 0:00:21\n",
      "     ------------------------- ------------- 8.4/12.8 MB 213.2 kB/s eta 0:00:21\n",
      "     ------------------------- ------------- 8.4/12.8 MB 213.2 kB/s eta 0:00:21\n",
      "     ------------------------- ------------- 8.4/12.8 MB 213.2 kB/s eta 0:00:21\n",
      "     -------------------------- ------------ 8.7/12.8 MB 213.2 kB/s eta 0:00:20\n",
      "     -------------------------- ------------ 8.7/12.8 MB 213.2 kB/s eta 0:00:20\n",
      "     -------------------------- ------------ 8.7/12.8 MB 213.2 kB/s eta 0:00:20\n",
      "     -------------------------- ------------ 8.7/12.8 MB 213.2 kB/s eta 0:00:20\n",
      "     -------------------------- ------------ 8.7/12.8 MB 213.2 kB/s eta 0:00:20\n",
      "     -------------------------- ------------ 8.7/12.8 MB 213.2 kB/s eta 0:00:20\n",
      "     -------------------------- ------------ 8.7/12.8 MB 213.2 kB/s eta 0:00:20\n",
      "     -------------------------- ------------ 8.7/12.8 MB 213.2 kB/s eta 0:00:20\n",
      "     -------------------------- ------------ 8.7/12.8 MB 213.2 kB/s eta 0:00:20\n",
      "     -------------------------- ------------ 8.7/12.8 MB 213.2 kB/s eta 0:00:20\n",
      "     -------------------------- ------------ 8.7/12.8 MB 213.2 kB/s eta 0:00:20\n",
      "     --------------------------- ----------- 8.9/12.8 MB 235.1 kB/s eta 0:00:17\n",
      "     --------------------------- ----------- 8.9/12.8 MB 235.1 kB/s eta 0:00:17\n",
      "     --------------------------- ----------- 8.9/12.8 MB 235.1 kB/s eta 0:00:17\n",
      "     --------------------------- ----------- 8.9/12.8 MB 235.1 kB/s eta 0:00:17\n",
      "     --------------------------- ----------- 8.9/12.8 MB 235.1 kB/s eta 0:00:17\n",
      "     --------------------------- ----------- 8.9/12.8 MB 235.1 kB/s eta 0:00:17\n",
      "     --------------------------- ----------- 8.9/12.8 MB 235.1 kB/s eta 0:00:17\n",
      "     --------------------------- ----------- 8.9/12.8 MB 235.1 kB/s eta 0:00:17\n",
      "     --------------------------- ----------- 8.9/12.8 MB 235.1 kB/s eta 0:00:17\n",
      "     --------------------------- ----------- 8.9/12.8 MB 235.1 kB/s eta 0:00:17\n",
      "     --------------------------- ----------- 8.9/12.8 MB 235.1 kB/s eta 0:00:17\n",
      "     ---------------------------- ---------- 9.4/12.8 MB 234.9 kB/s eta 0:00:15\n",
      "     ---------------------------- ---------- 9.4/12.8 MB 234.9 kB/s eta 0:00:15\n",
      "     ---------------------------- ---------- 9.4/12.8 MB 234.9 kB/s eta 0:00:15\n",
      "     ---------------------------- ---------- 9.4/12.8 MB 234.9 kB/s eta 0:00:15\n",
      "     ---------------------------- ---------- 9.4/12.8 MB 234.9 kB/s eta 0:00:15\n",
      "     ----------------------------- --------- 9.7/12.8 MB 224.8 kB/s eta 0:00:14\n",
      "     ----------------------------- --------- 9.7/12.8 MB 224.8 kB/s eta 0:00:14\n",
      "     ----------------------------- --------- 9.7/12.8 MB 224.8 kB/s eta 0:00:14\n",
      "     ----------------------------- --------- 9.7/12.8 MB 224.8 kB/s eta 0:00:14\n",
      "     ----------------------------- -------- 10.0/12.8 MB 227.8 kB/s eta 0:00:13\n",
      "     ----------------------------- -------- 10.0/12.8 MB 227.8 kB/s eta 0:00:13\n",
      "     ----------------------------- -------- 10.0/12.8 MB 227.8 kB/s eta 0:00:13\n",
      "     ----------------------------- -------- 10.0/12.8 MB 227.8 kB/s eta 0:00:13\n",
      "     ------------------------------ ------- 10.2/12.8 MB 236.8 kB/s eta 0:00:11\n",
      "     ------------------------------ ------- 10.2/12.8 MB 236.8 kB/s eta 0:00:11\n",
      "     ------------------------------ ------- 10.2/12.8 MB 236.8 kB/s eta 0:00:11\n",
      "     ------------------------------- ------ 10.5/12.8 MB 240.4 kB/s eta 0:00:10\n",
      "     ------------------------------- ------ 10.5/12.8 MB 240.4 kB/s eta 0:00:10\n",
      "     ------------------------------- ------ 10.5/12.8 MB 240.4 kB/s eta 0:00:10\n",
      "     ------------------------------- ------ 10.5/12.8 MB 240.4 kB/s eta 0:00:10\n",
      "     ------------------------------- ------ 10.5/12.8 MB 240.4 kB/s eta 0:00:10\n",
      "     ------------------------------- ------ 10.7/12.8 MB 240.5 kB/s eta 0:00:09\n",
      "     ------------------------------- ------ 10.7/12.8 MB 240.5 kB/s eta 0:00:09\n",
      "     ------------------------------- ------ 10.7/12.8 MB 240.5 kB/s eta 0:00:09\n",
      "     ------------------------------- ------ 10.7/12.8 MB 240.5 kB/s eta 0:00:09\n",
      "     ------------------------------- ------ 10.7/12.8 MB 240.5 kB/s eta 0:00:09\n",
      "     ------------------------------- ------ 10.7/12.8 MB 240.5 kB/s eta 0:00:09\n",
      "     ------------------------------- ------ 10.7/12.8 MB 240.5 kB/s eta 0:00:09\n",
      "     ------------------------------- ------ 10.7/12.8 MB 240.5 kB/s eta 0:00:09\n",
      "     -------------------------------- ----- 11.0/12.8 MB 219.2 kB/s eta 0:00:09\n",
      "     -------------------------------- ----- 11.0/12.8 MB 219.2 kB/s eta 0:00:09\n",
      "     -------------------------------- ----- 11.0/12.8 MB 219.2 kB/s eta 0:00:09\n",
      "     -------------------------------- ----- 11.0/12.8 MB 219.2 kB/s eta 0:00:09\n",
      "     -------------------------------- ----- 11.0/12.8 MB 219.2 kB/s eta 0:00:09\n",
      "     -------------------------------- ----- 11.0/12.8 MB 219.2 kB/s eta 0:00:09\n",
      "     -------------------------------- ----- 11.0/12.8 MB 219.2 kB/s eta 0:00:09\n",
      "     -------------------------------- ----- 11.0/12.8 MB 219.2 kB/s eta 0:00:09\n",
      "     -------------------------------- ----- 11.0/12.8 MB 219.2 kB/s eta 0:00:09\n",
      "     -------------------------------- ----- 11.0/12.8 MB 219.2 kB/s eta 0:00:09\n",
      "     ---------------------------------- --- 11.5/12.8 MB 230.3 kB/s eta 0:00:06\n",
      "     ---------------------------------- --- 11.5/12.8 MB 230.3 kB/s eta 0:00:06\n",
      "     ---------------------------------- --- 11.5/12.8 MB 230.3 kB/s eta 0:00:06\n",
      "     ---------------------------------- --- 11.5/12.8 MB 230.3 kB/s eta 0:00:06\n",
      "     ---------------------------------- --- 11.5/12.8 MB 230.3 kB/s eta 0:00:06\n",
      "     ---------------------------------- --- 11.5/12.8 MB 230.3 kB/s eta 0:00:06\n",
      "     ----------------------------------- -- 11.8/12.8 MB 230.0 kB/s eta 0:00:05\n",
      "     ----------------------------------- -- 11.8/12.8 MB 230.0 kB/s eta 0:00:05\n",
      "     ----------------------------------- -- 11.8/12.8 MB 230.0 kB/s eta 0:00:05\n",
      "     ----------------------------------- -- 12.1/12.8 MB 233.5 kB/s eta 0:00:04\n",
      "     ------------------------------------ - 12.3/12.8 MB 239.9 kB/s eta 0:00:03\n",
      "     ------------------------------------ - 12.3/12.8 MB 239.9 kB/s eta 0:00:03\n",
      "     ------------------------------------ - 12.3/12.8 MB 239.9 kB/s eta 0:00:03\n",
      "     ------------------------------------ - 12.3/12.8 MB 239.9 kB/s eta 0:00:03\n",
      "     ------------------------------------ - 12.3/12.8 MB 239.9 kB/s eta 0:00:03\n",
      "     ------------------------------------ - 12.3/12.8 MB 239.9 kB/s eta 0:00:03\n",
      "     -------------------------------------  12.6/12.8 MB 219.7 kB/s eta 0:00:02\n",
      "     -------------------------------------  12.6/12.8 MB 219.7 kB/s eta 0:00:02\n",
      "     -------------------------------------  12.6/12.8 MB 219.7 kB/s eta 0:00:02\n",
      "     -------------------------------------  12.6/12.8 MB 219.7 kB/s eta 0:00:02\n",
      "     -------------------------------------  12.6/12.8 MB 219.7 kB/s eta 0:00:02\n",
      "     -------------------------------------  12.6/12.8 MB 219.7 kB/s eta 0:00:02\n",
      "     -------------------------------------  12.6/12.8 MB 219.7 kB/s eta 0:00:02\n",
      "     -------------------------------------  12.6/12.8 MB 219.7 kB/s eta 0:00:02\n",
      "     -------------------------------------  12.6/12.8 MB 219.7 kB/s eta 0:00:02\n",
      "     -------------------------------------  12.6/12.8 MB 219.7 kB/s eta 0:00:02\n",
      "     -------------------------------------  12.6/12.8 MB 219.7 kB/s eta 0:00:02\n",
      "     -------------------------------------  12.6/12.8 MB 219.7 kB/s eta 0:00:02\n",
      "     -------------------------------------  12.6/12.8 MB 219.7 kB/s eta 0:00:02\n",
      "     -------------------------------------  12.6/12.8 MB 219.7 kB/s eta 0:00:02\n",
      "     -------------------------------------  12.6/12.8 MB 219.7 kB/s eta 0:00:02\n",
      "     -------------------------------------  12.6/12.8 MB 219.7 kB/s eta 0:00:02\n",
      "     -------------------------------------  12.6/12.8 MB 219.7 kB/s eta 0:00:02\n",
      "     -------------------------------------  12.6/12.8 MB 219.7 kB/s eta 0:00:02\n",
      "     -------------------------------------  12.6/12.8 MB 219.7 kB/s eta 0:00:02\n",
      "     -------------------------------------  12.6/12.8 MB 219.7 kB/s eta 0:00:02\n",
      "     -------------------------------------- 12.8/12.8 MB 219.1 kB/s eta 0:00:00\n",
      "Installing collected packages: en-core-web-sm\n",
      "Successfully installed en-core-web-sm-3.8.0\n",
      "\u001b[38;5;2m✔ Download and installation successful\u001b[0m\n",
      "You can now load the package via spacy.load('en_core_web_sm')\n"
     ]
    }
   ],
   "source": [
    "!python -m spacy download en_core_web_sm"
   ]
  },
  {
   "cell_type": "markdown",
   "metadata": {
    "colab_type": "text",
    "id": "nfJx3MnVj_ph"
   },
   "source": [
    "### Tokenizing the text"
   ]
  },
  {
   "cell_type": "code",
   "execution_count": 11,
   "metadata": {
    "colab": {
     "base_uri": "https://localhost:8080/",
     "height": 272
    },
    "colab_type": "code",
    "id": "OUz580k2sMqf",
    "outputId": "da21bf1e-444b-4077-c823-e58b4986a35f"
   },
   "outputs": [
    {
     "name": "stderr",
     "output_type": "stream",
     "text": [
      "[nltk_data] Downloading package stopwords to\n",
      "[nltk_data]     C:\\Users\\rende\\AppData\\Roaming\\nltk_data...\n",
      "[nltk_data]   Package stopwords is already up-to-date!\n",
      "[nltk_data] Downloading package punkt to\n",
      "[nltk_data]     C:\\Users\\rende\\AppData\\Roaming\\nltk_data...\n",
      "[nltk_data]   Package punkt is already up-to-date!\n",
      "[nltk_data] Downloading package punkt_tab to\n",
      "[nltk_data]     C:\\Users\\rende\\AppData\\Roaming\\nltk_data...\n",
      "[nltk_data]   Unzipping tokenizers\\punkt_tab.zip.\n"
     ]
    },
    {
     "name": "stdout",
     "output_type": "stream",
     "text": [
      "\n",
      "NLTK\n",
      "Tokenized corpus: ['need', 'to', 'finalize', 'the', 'demo', 'corpus', 'which', 'will', 'be', 'used', 'for', 'this', 'notebook', 'should', 'be', 'done', 'soon', 'it', 'should', 'be', 'done', 'by', 'the', 'ending', 'of', 'this', 'month', 'but', 'will', 'it', 'this', 'notebook', 'has', 'been', 'run', 'times']\n",
      "Tokenized corpus without stopwords: ['need', 'finalize', 'demo', 'corpus', 'used', 'notebook', 'done', 'soon', 'done', 'ending', 'month', 'notebook', 'run', 'times']\n",
      "\n",
      "Spacy:\n",
      "Tokenized Corpus: ['need', 'to', 'finalize', 'the', 'demo', 'corpus', 'which', 'will', 'be', 'used', 'for', 'this', 'notebook', 'should', 'be', 'done', 'soon', 'it', 'should', 'be', 'done', 'by', 'the', 'ending', 'of', 'this', 'month', 'but', 'will', 'it', 'this', 'notebook', 'has', 'been', 'run', 'times']\n",
      "Tokenized corpus without stopwords ['need', 'finalize', 'demo', 'corpus', 'notebook', 'soon', 'ending', 'month', 'notebook', 'run', 'times']\n",
      "Difference between NLTK and spaCy output:\n",
      " {'used', 'done'}\n"
     ]
    }
   ],
   "source": [
    "from pprint import pprint\n",
    "##NLTK\n",
    "import nltk\n",
    "from nltk.corpus import stopwords\n",
    "nltk.download('stopwords')\n",
    "nltk.download('punkt')\n",
    "nltk.download('punkt_tab')\n",
    "from nltk.tokenize import word_tokenize\n",
    "stop_words_nltk = set(stopwords.words('english'))\n",
    "\n",
    "tokenized_corpus_nltk = word_tokenize(corpus)\n",
    "print(\"\\nNLTK\\nTokenized corpus:\",tokenized_corpus_nltk)\n",
    "tokenized_corpus_without_stopwords = [i for i in tokenized_corpus_nltk if not i in stop_words_nltk]\n",
    "print(\"Tokenized corpus without stopwords:\",tokenized_corpus_without_stopwords)\n",
    "\n",
    "\n",
    "##SPACY \n",
    "from spacy.lang.en.stop_words import STOP_WORDS\n",
    "import spacy\n",
    "spacy_model = spacy.load('en_core_web_sm')\n",
    "\n",
    "stopwords_spacy = spacy_model.Defaults.stop_words\n",
    "print(\"\\nSpacy:\")\n",
    "tokenized_corpus_spacy = word_tokenize(corpus)\n",
    "print(\"Tokenized Corpus:\",tokenized_corpus_spacy)\n",
    "tokens_without_sw= [word for word in tokenized_corpus_spacy if not word in stopwords_spacy]\n",
    "\n",
    "print(\"Tokenized corpus without stopwords\",tokens_without_sw)\n",
    "\n",
    "\n",
    "print(\"Difference between NLTK and spaCy output:\\n\",\n",
    "      set(tokenized_corpus_without_stopwords)-set(tokens_without_sw))"
   ]
  },
  {
   "cell_type": "markdown",
   "metadata": {
    "colab_type": "text",
    "id": "eRH_ltkD-HpA"
   },
   "source": [
    "Notice the difference output after stopword removal using nltk and spacy"
   ]
  },
  {
   "cell_type": "markdown",
   "metadata": {
    "colab_type": "text",
    "id": "tGcwD1JlkEao"
   },
   "source": [
    "### Stemming"
   ]
  },
  {
   "cell_type": "code",
   "execution_count": 12,
   "metadata": {
    "colab": {
     "base_uri": "https://localhost:8080/",
     "height": 84
    },
    "colab_type": "code",
    "id": "ibEpzcv0sdW8",
    "outputId": "18f77b85-3a8e-4e89-df28-3bd6342ac594"
   },
   "outputs": [
    {
     "name": "stdout",
     "output_type": "stream",
     "text": [
      "Before Stemming:\n",
      "need to finalize the demo corpus which will be used for this notebook should be done soon it should be done by the ending of this month but will it this notebook has been run times\n",
      "After Stemming:\n",
      "need to final the demo corpu which will be use for thi notebook should be done soon it should be done by the end of thi month but will it thi notebook ha been run time "
     ]
    }
   ],
   "source": [
    "from nltk.stem import PorterStemmer\n",
    "from nltk.tokenize import word_tokenize\n",
    "stemmer= PorterStemmer()\n",
    "\n",
    "print(\"Before Stemming:\")\n",
    "print(corpus)\n",
    "\n",
    "print(\"After Stemming:\")\n",
    "for word in tokenized_corpus_nltk:\n",
    "    print(stemmer.stem(word),end=\" \")"
   ]
  },
  {
   "cell_type": "markdown",
   "metadata": {
    "colab_type": "text",
    "id": "9Wy6cwvYkJeR"
   },
   "source": [
    "### Lemmatization"
   ]
  },
  {
   "cell_type": "code",
   "execution_count": 13,
   "metadata": {
    "colab": {
     "base_uri": "https://localhost:8080/",
     "height": 67
    },
    "colab_type": "code",
    "id": "27KvL4ZE-fqJ",
    "outputId": "d8b6778f-79b7-4dd4-8832-da29d75dc3a8"
   },
   "outputs": [
    {
     "name": "stderr",
     "output_type": "stream",
     "text": [
      "[nltk_data] Downloading package wordnet to\n",
      "[nltk_data]     C:\\Users\\rende\\AppData\\Roaming\\nltk_data...\n"
     ]
    },
    {
     "name": "stdout",
     "output_type": "stream",
     "text": [
      "need to finalize the demo corpus which will be used for this notebook should be done soon it should be done by the ending of this month but will it this notebook ha been run time "
     ]
    }
   ],
   "source": [
    "from nltk.stem import WordNetLemmatizer\n",
    "from nltk.tokenize import word_tokenize\n",
    "nltk.download('wordnet')\n",
    "lemmatizer=WordNetLemmatizer()\n",
    "\n",
    "for word in tokenized_corpus_nltk:\n",
    "    print(lemmatizer.lemmatize(word),end=\" \")"
   ]
  },
  {
   "cell_type": "markdown",
   "metadata": {
    "colab_type": "text",
    "id": "h8uCGA8ukMfQ"
   },
   "source": [
    "### POS Tagging"
   ]
  },
  {
   "cell_type": "code",
   "execution_count": 19,
   "metadata": {
    "colab": {
     "base_uri": "https://localhost:8080/",
     "height": 1000
    },
    "colab_type": "code",
    "id": "kZqBxLDz-6cu",
    "outputId": "a8503608-0352-4c00-82fe-789d874b5655"
   },
   "outputs": [
    {
     "name": "stdout",
     "output_type": "stream",
     "text": [
      "POS Tagging using spacy:\n",
      "Need : VERB\n",
      "to : PART\n",
      "finalize : VERB\n",
      "the : DET\n",
      "demo : NOUN\n",
      "corpus : X\n",
      "which : PRON\n",
      "will : AUX\n",
      "be : AUX\n",
      "used : VERB\n",
      "for : ADP\n",
      "this : DET\n",
      "notebook : NOUN\n",
      "and : CCONJ\n",
      "it : PRON\n",
      "should : AUX\n",
      "be : AUX\n",
      "done : VERB\n",
      "soon : ADV\n",
      "! : PUNCT\n",
      "! : PUNCT\n",
      ". : PUNCT\n",
      "It : PRON\n",
      "should : AUX\n",
      "be : AUX\n",
      "done : VERB\n",
      "by : ADP\n",
      "the : DET\n",
      "ending : NOUN\n",
      "of : ADP\n",
      "this : DET\n",
      "month : NOUN\n",
      ". : PUNCT\n",
      "But : CCONJ\n",
      "will : AUX\n",
      "it : PRON\n",
      "? : PUNCT\n",
      "This : DET\n",
      "notebook : NOUN\n",
      "has : AUX\n",
      "been : AUX\n",
      "run : VERB\n",
      "4 : NUM\n",
      "times : NOUN\n",
      "! : PUNCT\n",
      "! : PUNCT\n"
     ]
    },
    {
     "name": "stderr",
     "output_type": "stream",
     "text": [
      "[nltk_data] Downloading package averaged_perceptron_tagger_eng to\n",
      "[nltk_data]     C:\\Users\\rende\\AppData\\Roaming\\nltk_data...\n",
      "[nltk_data]   Unzipping taggers\\averaged_perceptron_tagger_eng.zip.\n"
     ]
    },
    {
     "name": "stdout",
     "output_type": "stream",
     "text": [
      "POS Tagging using NLTK:\n",
      "[('Need', 'NN'), ('to', 'TO'), ('finalize', 'VB'), ('the', 'DT'), ('demo', 'NN'), ('corpus', 'NN'), ('which', 'WDT'), ('will', 'MD'), ('be', 'VB'), ('used', 'VBN'), ('for', 'IN'), ('this', 'DT'), ('notebook', 'NN'), ('and', 'CC'), ('it', 'PRP'), ('should', 'MD'), ('be', 'VB'), ('done', 'VBN'), ('soon', 'RB'), ('!', '.'), ('!', '.'), ('.', '.'), ('It', 'PRP'), ('should', 'MD'), ('be', 'VB'), ('done', 'VBN'), ('by', 'IN'), ('the', 'DT'), ('ending', 'VBG'), ('of', 'IN'), ('this', 'DT'), ('month', 'NN'), ('.', '.'), ('But', 'CC'), ('will', 'MD'), ('it', 'PRP'), ('?', '.'), ('This', 'DT'), ('notebook', 'NN'), ('has', 'VBZ'), ('been', 'VBN'), ('run', 'VBN'), ('4', 'CD'), ('times', 'NNS'), ('!', '.'), ('!', '.')]\n"
     ]
    }
   ],
   "source": [
    "#POS tagging using spacy\n",
    "print(\"POS Tagging using spacy:\")\n",
    "doc = spacy_model(corpus_original)\n",
    "# Token and Tag\n",
    "for token in doc:\n",
    "    print(token, \":\", token.pos_)\n",
    "\n",
    "#pos tagging using nltk\n",
    "nltk.download('averaged_perceptron_tagger_eng')\n",
    "print(\"POS Tagging using NLTK:\")\n",
    "print(nltk.pos_tag(word_tokenize(corpus_original)))"
   ]
  },
  {
   "cell_type": "markdown",
   "metadata": {
    "colab_type": "text",
    "id": "zWdmz6lFkpEI"
   },
   "source": [
    "There are various other libraries you can use to perform these common pre-processing steps"
   ]
  }
 ],
 "metadata": {
  "colab": {
   "collapsed_sections": [],
   "name": "Tokenization_Stemming_lemmatization_stopword_postagging.ipynb",
   "provenance": []
  },
  "kernelspec": {
   "display_name": "base",
   "language": "python",
   "name": "python3"
  },
  "language_info": {
   "codemirror_mode": {
    "name": "ipython",
    "version": 3
   },
   "file_extension": ".py",
   "mimetype": "text/x-python",
   "name": "python",
   "nbconvert_exporter": "python",
   "pygments_lexer": "ipython3",
   "version": "3.13.5"
  }
 },
 "nbformat": 4,
 "nbformat_minor": 1
}
